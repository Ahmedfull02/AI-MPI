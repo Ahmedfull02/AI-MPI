{
 "cells": [
  {
   "cell_type": "markdown",
   "metadata": {},
   "source": [
    "# optimize costs of shiping to improve it "
   ]
  },
  {
   "cell_type": "markdown",
   "metadata": {},
   "source": [
    "### Models libraries imports"
   ]
  },
  {
   "cell_type": "code",
   "execution_count": 1,
   "metadata": {},
   "outputs": [],
   "source": [
    "from sklearn.linear_model import LinearRegression\n",
    "from sklearn.ensemble import GradientBoostingRegressor\n",
    "from sklearn.neighbors import KNeighborsRegressor"
   ]
  },
  {
   "cell_type": "markdown",
   "metadata": {},
   "source": [
    "### Preprcessing, pipeline, metrics libraries imports"
   ]
  },
  {
   "cell_type": "code",
   "execution_count": 2,
   "metadata": {},
   "outputs": [],
   "source": [
    "from sklearn.pipeline import make_pipeline\n",
    "from sklearn.compose import ColumnTransformer\n",
    "from sklearn.preprocessing import OneHotEncoder, StandardScaler\n",
    "from sklearn.model_selection import train_test_split, GridSearchCV\n",
    "from sklearn.metrics import mean_squared_error, r2_score, mean_absolute_error, mean_squared_error, PredictionErrorDisplay"
   ]
  },
  {
   "cell_type": "markdown",
   "metadata": {},
   "source": [
    "### data, plots libraries imports"
   ]
  },
  {
   "cell_type": "code",
   "execution_count": 3,
   "metadata": {},
   "outputs": [],
   "source": [
    "import matplotlib.pyplot as plt\n",
    "import pandas as pd\n",
    "import numpy as np\n",
    "import matplotlib.pyplot as plt"
   ]
  },
  {
   "cell_type": "markdown",
   "metadata": {},
   "source": [
    "### Read data from file as a dataframe"
   ]
  },
  {
   "cell_type": "code",
   "execution_count": 4,
   "metadata": {},
   "outputs": [
    {
     "name": "stdout",
     "output_type": "stream",
     "text": [
      "   Row ID         Order ID  Order Date   Ship Date       Ship Mode  \\\n",
      "0   32298   CA-2012-124891  31-07-2012  31-07-2012        Same Day   \n",
      "1   26341    IN-2013-77878  05-02-2013  07-02-2013    Second Class   \n",
      "2   25330    IN-2013-71249  17-10-2013  18-10-2013     First Class   \n",
      "3   13524  ES-2013-1579342  28-01-2013  30-01-2013     First Class   \n",
      "4   47221     SG-2013-4320  05-11-2013  06-11-2013        Same Day   \n",
      "5   22732    IN-2013-42360  28-06-2013  01-07-2013    Second Class   \n",
      "6   30570    IN-2011-81826  07-11-2011  09-11-2011     First Class   \n",
      "7   31192    IN-2012-86369  14-04-2012  18-04-2012  Standard Class   \n",
      "8   40155   CA-2014-135909  14-10-2014  21-10-2014  Standard Class   \n",
      "9   40936   CA-2012-116638  28-01-2012  31-01-2012    Second Class   \n",
      "\n",
      "  Customer ID     Customer Name      Segment           City            State  \\\n",
      "0    RH-19495       Rick Hansen     Consumer  New York City         New York   \n",
      "1    JR-16210     Justin Ritter    Corporate     Wollongong  New South Wales   \n",
      "2    CR-12730      Craig Reiter     Consumer       Brisbane       Queensland   \n",
      "3    KM-16375  Katherine Murray  Home Office         Berlin           Berlin   \n",
      "4     RH-9495       Rick Hansen     Consumer          Dakar            Dakar   \n",
      "5    JM-15655       Jim Mitchum    Corporate         Sydney  New South Wales   \n",
      "6    TS-21340     Toby Swindell     Consumer        Porirua       Wellington   \n",
      "7    MB-18085        Mick Brown     Consumer       Hamilton          Waikato   \n",
      "8    JW-15220         Jane Waco    Corporate     Sacramento       California   \n",
      "9    JH-15985       Joseph Holt     Consumer        Concord   North Carolina   \n",
      "\n",
      "   ...        Product ID         Category Sub-Category  \\\n",
      "0  ...   TEC-AC-10003033       Technology  Accessories   \n",
      "1  ...   FUR-CH-10003950        Furniture       Chairs   \n",
      "2  ...   TEC-PH-10004664       Technology       Phones   \n",
      "3  ...   TEC-PH-10004583       Technology       Phones   \n",
      "4  ...  TEC-SHA-10000501       Technology      Copiers   \n",
      "5  ...   TEC-PH-10000030       Technology       Phones   \n",
      "6  ...   FUR-CH-10004050        Furniture       Chairs   \n",
      "7  ...   FUR-TA-10002958        Furniture       Tables   \n",
      "8  ...   OFF-BI-10003527  Office Supplies      Binders   \n",
      "9  ...   FUR-TA-10000198        Furniture       Tables   \n",
      "\n",
      "                                        Product Name     Sales Quantity  \\\n",
      "0  Plantronics CS510 - Over-the-Head monaural Wir...  2309.650        7   \n",
      "1          Novimex Executive Leather Armchair, Black  3709.395        9   \n",
      "2                  Nokia Smart Phone, with Caller ID  5175.171        9   \n",
      "3                     Motorola Smart Phone, Cordless  2892.510        5   \n",
      "4                     Sharp Wireless Fax, High-Speed  2832.960        8   \n",
      "5                Samsung Smart Phone, with Caller ID  2862.675        5   \n",
      "6     Novimex Executive Leather Armchair, Adjustable  1822.080        4   \n",
      "7       Chromcraft Conference Table, Fully Assembled  5244.840        6   \n",
      "8  Fellowes PB500 Electric Punch Plastic Comb Bin...  5083.960        5   \n",
      "9  Chromcraft Bull-Nose Wood Oval Conference Tabl...  4297.644       13   \n",
      "\n",
      "  Discount     Profit  Shipping Cost  Order Priority  \n",
      "0      0.0   762.1845         933.57        Critical  \n",
      "1      0.1  -288.7650         923.63        Critical  \n",
      "2      0.1   919.9710         915.49          Medium  \n",
      "3      0.1   -96.5400         910.16          Medium  \n",
      "4      0.0   311.5200         903.04        Critical  \n",
      "5      0.1   763.2750         897.35        Critical  \n",
      "6      0.0   564.8400         894.77        Critical  \n",
      "7      0.0   996.4800         878.38            High  \n",
      "8      0.2  1906.4850         867.69             Low  \n",
      "9      0.4 -1862.3124         865.74        Critical  \n",
      "\n",
      "[10 rows x 24 columns]\n",
      "number of rows is :  Row ID            51290\n",
      "Order ID          51290\n",
      "Order Date        51290\n",
      "Ship Date         51290\n",
      "Ship Mode         51290\n",
      "Customer ID       51290\n",
      "Customer Name     51290\n",
      "Segment           51290\n",
      "City              51290\n",
      "State             51290\n",
      "Country           51290\n",
      "Postal Code        9994\n",
      "Market            51290\n",
      "Region            51290\n",
      "Product ID        51290\n",
      "Category          51290\n",
      "Sub-Category      51290\n",
      "Product Name      51290\n",
      "Sales             51290\n",
      "Quantity          51290\n",
      "Discount          51290\n",
      "Profit            51290\n",
      "Shipping Cost     51290\n",
      "Order Priority    51290\n",
      "dtype: int64\n"
     ]
    }
   ],
   "source": [
    "data = pd.read_csv(\"data.csv\", encoding='latin-1') # I used encoding because it could not run directly\n",
    "\n",
    "print(data.head(10))\n",
    "print(\"number of rows is : \",data.count())"
   ]
  },
  {
   "cell_type": "markdown",
   "metadata": {},
   "source": [
    "### Data cleaning for model training"
   ]
  },
  {
   "cell_type": "markdown",
   "metadata": {},
   "source": [
    "Drop unwanted columns\n",
    "we will not use all Columns because it exist unecessary ones  \n"
   ]
  },
  {
   "cell_type": "code",
   "execution_count": 5,
   "metadata": {},
   "outputs": [
    {
     "name": "stdout",
     "output_type": "stream",
     "text": [
      "   Order Date   Ship Date       Ship Mode      Segment        Country  Market  \\\n",
      "0  31-07-2012  31-07-2012        Same Day     Consumer  United States      US   \n",
      "1  05-02-2013  07-02-2013    Second Class    Corporate      Australia    APAC   \n",
      "2  17-10-2013  18-10-2013     First Class     Consumer      Australia    APAC   \n",
      "3  28-01-2013  30-01-2013     First Class  Home Office        Germany      EU   \n",
      "4  05-11-2013  06-11-2013        Same Day     Consumer        Senegal  Africa   \n",
      "5  28-06-2013  01-07-2013    Second Class    Corporate      Australia    APAC   \n",
      "6  07-11-2011  09-11-2011     First Class     Consumer    New Zealand    APAC   \n",
      "7  14-04-2012  18-04-2012  Standard Class     Consumer    New Zealand    APAC   \n",
      "8  14-10-2014  21-10-2014  Standard Class    Corporate  United States      US   \n",
      "9  28-01-2012  31-01-2012    Second Class     Consumer  United States      US   \n",
      "\n",
      "    Region         Category Sub-Category     Sales  Quantity     Profit  \\\n",
      "0     East       Technology  Accessories  2309.650         7   762.1845   \n",
      "1  Oceania        Furniture       Chairs  3709.395         9  -288.7650   \n",
      "2  Oceania       Technology       Phones  5175.171         9   919.9710   \n",
      "3  Central       Technology       Phones  2892.510         5   -96.5400   \n",
      "4   Africa       Technology      Copiers  2832.960         8   311.5200   \n",
      "5  Oceania       Technology       Phones  2862.675         5   763.2750   \n",
      "6  Oceania        Furniture       Chairs  1822.080         4   564.8400   \n",
      "7  Oceania        Furniture       Tables  5244.840         6   996.4800   \n",
      "8     West  Office Supplies      Binders  5083.960         5  1906.4850   \n",
      "9    South        Furniture       Tables  4297.644        13 -1862.3124   \n",
      "\n",
      "   Shipping Cost Order Priority  \n",
      "0         933.57       Critical  \n",
      "1         923.63       Critical  \n",
      "2         915.49         Medium  \n",
      "3         910.16         Medium  \n",
      "4         903.04       Critical  \n",
      "5         897.35       Critical  \n",
      "6         894.77       Critical  \n",
      "7         878.38           High  \n",
      "8         867.69            Low  \n",
      "9         865.74       Critical  \n"
     ]
    }
   ],
   "source": [
    "data = data[\n",
    "    ['Order Date','Ship Date','Ship Mode','Segment','Country','Market','Region','Category','Sub-Category','Sales','Quantity','Profit','Shipping Cost','Order Priority'\t\t\n",
    "]]\n",
    "\n",
    "print(data.head(10))"
   ]
  },
  {
   "cell_type": "markdown",
   "metadata": {},
   "source": [
    "### Remove unwanted rows"
   ]
  },
  {
   "cell_type": "markdown",
   "metadata": {},
   "source": [
    "We will not use all rows  because we are interseted only in african market "
   ]
  },
  {
   "cell_type": "code",
   "execution_count": 6,
   "metadata": {},
   "outputs": [
    {
     "name": "stdout",
     "output_type": "stream",
     "text": [
      "     Order Date   Ship Date       Ship Mode      Segment  \\\n",
      "4    05-11-2013  06-11-2013        Same Day     Consumer   \n",
      "19   05-12-2014  07-12-2014    Second Class     Consumer   \n",
      "35   14-09-2011  15-09-2011     First Class    Corporate   \n",
      "54   18-12-2013  18-12-2013        Same Day    Corporate   \n",
      "72   29-03-2013  31-03-2013    Second Class     Consumer   \n",
      "81   28-10-2014  30-10-2014    Second Class    Corporate   \n",
      "86   23-11-2013  23-11-2013        Same Day  Home Office   \n",
      "100  26-07-2013  01-08-2013  Standard Class     Consumer   \n",
      "142  18-09-2014  20-09-2014     First Class     Consumer   \n",
      "204  15-02-2011  16-02-2011     First Class  Home Office   \n",
      "\n",
      "                              Country  Market  Region         Category  \\\n",
      "4                             Senegal  Africa  Africa       Technology   \n",
      "19                           Tanzania  Africa  Africa  Office Supplies   \n",
      "35   Democratic Republic of the Congo  Africa  Africa       Technology   \n",
      "54                         Mozambique  Africa  Africa       Technology   \n",
      "72   Democratic Republic of the Congo  Africa  Africa        Furniture   \n",
      "81                            Morocco  Africa  Africa       Technology   \n",
      "86                            Morocco  Africa  Africa  Office Supplies   \n",
      "100  Democratic Republic of the Congo  Africa  Africa       Technology   \n",
      "142                           Somalia  Africa  Africa       Technology   \n",
      "204                      South Africa  Africa  Africa  Office Supplies   \n",
      "\n",
      "    Sub-Category    Sales  Quantity   Profit  Shipping Cost Order Priority  \n",
      "4        Copiers  2832.96         8   311.52         903.04       Critical  \n",
      "19    Appliances  3409.74         6   818.28         763.38           High  \n",
      "35        Phones  3817.26         6  1068.66         678.15           High  \n",
      "54        Phones  2582.16         4   593.88         627.17           High  \n",
      "72        Chairs  3808.80         8  1523.52         588.13           High  \n",
      "81       Copiers  5301.24        14  2597.28         568.45         Medium  \n",
      "86    Appliances  2266.44         4   113.28         556.45         Medium  \n",
      "100       Phones  3856.14         6  1465.20         533.99            Low  \n",
      "142       Phones  3834.00         6   268.38         481.04           High  \n",
      "204      Storage  2784.60        14   779.52         422.25       Critical  \n",
      "number of rows is :  Order Date        4587\n",
      "Ship Date         4587\n",
      "Ship Mode         4587\n",
      "Segment           4587\n",
      "Country           4587\n",
      "Market            4587\n",
      "Region            4587\n",
      "Category          4587\n",
      "Sub-Category      4587\n",
      "Sales             4587\n",
      "Quantity          4587\n",
      "Profit            4587\n",
      "Shipping Cost     4587\n",
      "Order Priority    4587\n",
      "dtype: int64\n",
      "\n",
      "\n",
      "\n",
      "\n",
      "Order Date         object\n",
      "Ship Date          object\n",
      "Ship Mode          object\n",
      "Segment            object\n",
      "Country            object\n",
      "Market             object\n",
      "Region             object\n",
      "Category           object\n",
      "Sub-Category       object\n",
      "Sales             float64\n",
      "Quantity            int64\n",
      "Profit            float64\n",
      "Shipping Cost     float64\n",
      "Order Priority     object\n",
      "dtype: object\n"
     ]
    }
   ],
   "source": [
    "data = data[data.isin(['Africa']).any(axis=1)]\n",
    "print(data.head(10))\n",
    "print(\"number of rows is : \",data.count())\n",
    "print('\\n\\n\\n')\n",
    "print(data.dtypes)\n"
   ]
  },
  {
   "cell_type": "markdown",
   "metadata": {},
   "source": [
    "### Replace dates of `order` and `shipping` with `shiping days` for simplicity. "
   ]
  },
  {
   "cell_type": "code",
   "execution_count": 7,
   "metadata": {},
   "outputs": [
    {
     "name": "stdout",
     "output_type": "stream",
     "text": [
      "Ship Mode          object\n",
      "Segment            object\n",
      "Country            object\n",
      "Market             object\n",
      "Region             object\n",
      "Category           object\n",
      "Sub-Category       object\n",
      "Sales             float64\n",
      "Quantity            int64\n",
      "Profit            float64\n",
      "Shipping Cost     float64\n",
      "Order Priority     object\n",
      "Shipping days       int64\n",
      "dtype: object\n"
     ]
    }
   ],
   "source": [
    "data['Order Date'] = pd.to_datetime(data['Order Date'],format=\"%d-%m-%Y\")\n",
    "data['Ship Date'] = pd.to_datetime(data['Ship Date'],format=\"%d-%m-%Y\")\n",
    "\n",
    "# Calculate difference\n",
    "data['Shipping days'] = data['Ship Date'] - data['Order Date'] \n",
    "data['Shipping days'] = data['Shipping days'].astype('str')\n",
    "data['Shipping days'] = data['Shipping days'].str.replace(' days','')\n",
    "data['Shipping days'] = data['Shipping days'].astype('int64')\n",
    "\n",
    "\n",
    "data = data.drop(columns=['Order Date', 'Ship Date'])\n",
    "\n",
    "print(data.dtypes)"
   ]
  },
  {
   "cell_type": "markdown",
   "metadata": {},
   "source": [
    "## EDA\n",
    " Understanding data"
   ]
  },
  {
   "cell_type": "markdown",
   "metadata": {},
   "source": [
    "### Count the occurrences of each order priority"
   ]
  },
  {
   "cell_type": "code",
   "execution_count": 8,
   "metadata": {},
   "outputs": [],
   "source": [
    "order_count = data['Order Priority'].value_counts()\n"
   ]
  },
  {
   "cell_type": "markdown",
   "metadata": {},
   "source": [
    "### Create the pie chart\n"
   ]
  },
  {
   "cell_type": "code",
   "execution_count": 9,
   "metadata": {},
   "outputs": [
    {
     "data": {
      "image/png": "[encoded data removed]",
      "text/plain": [
       "<Figure size 800x800 with 1 Axes>"
      ]
     },
     "metadata": {},
     "output_type": "display_data"
    }
   ],
   "source": [
    "plt.figure(figsize=(8, 8))\n",
    "plt.pie(order_count, labels=order_count.index,autopct='%1.1f%%', colors=['blue', 'yellow', 'red', 'green'])\n",
    "plt.title('Order Priority Distribution')\n",
    "plt.axis('equal')  # Equal aspect ratio ensures that pie is drawn as a circle.\n",
    "\n",
    "# Show the plot\n",
    "plt.show()"
   ]
  },
  {
   "cell_type": "markdown",
   "metadata": {},
   "source": [
    "### Group the data by 'Sub-Category' and calculate the sum of 'Profit' for each sub-category"
   ]
  },
  {
   "cell_type": "code",
   "execution_count": 10,
   "metadata": {},
   "outputs": [
    {
     "data": {
      "image/png": "[encoded data removed]",
      "text/plain": [
       "<Figure size 1000x600 with 1 Axes>"
      ]
     },
     "metadata": {},
     "output_type": "display_data"
    }
   ],
   "source": [
    "profit = data.groupby('Sub-Category')['Profit'].sum()\n",
    "# Plot the bar chart\n",
    "plt.figure(figsize=(10, 6))\n",
    "profit.plot(kind='bar', color='skyblue')\n",
    "\n",
    "plt.title('Total Profit for Each Sub-Category', fontsize=14)\n",
    "plt.xlabel('Sub-Category', fontsize=12)\n",
    "plt.ylabel('Total Profit', fontsize=12)\n",
    "\n",
    "plt.tight_layout()\n"
   ]
  },
  {
   "cell_type": "markdown",
   "metadata": {},
   "source": [
    "### Splitting data"
   ]
  },
  {
   "cell_type": "code",
   "execution_count": 11,
   "metadata": {},
   "outputs": [],
   "source": [
    "# choose dependant vars and undependant var.\n",
    "X = data.drop(['Shipping Cost'],axis=1)\n",
    "y = data['Shipping Cost']\n",
    "\n",
    "# Split data into Train and validation set \n",
    "X_train, X_test, y_train, y_test = train_test_split(X, y, test_size=0.3, random_state=42)\n"
   ]
  },
  {
   "cell_type": "markdown",
   "metadata": {},
   "source": [
    "### Define categorical and numerical features"
   ]
  },
  {
   "cell_type": "code",
   "execution_count": 12,
   "metadata": {},
   "outputs": [],
   "source": [
    "categorical_features = X.select_dtypes(\n",
    "   include=[\"object\"]\n",
    ").columns.tolist()\n",
    "\n",
    "numerical_features = X.select_dtypes(\n",
    "   include=[\"float64\", \"int64\"]\n",
    ").columns.tolist()\n"
   ]
  },
  {
   "cell_type": "markdown",
   "metadata": {},
   "source": [
    "### Preprocessing"
   ]
  },
  {
   "cell_type": "code",
   "execution_count": 13,
   "metadata": {},
   "outputs": [],
   "source": [
    "preprocessor = ColumnTransformer(\n",
    "   transformers=[\n",
    "       (\"cat\", OneHotEncoder(handle_unknown='ignore'), categorical_features),\n",
    "       (\"num\", StandardScaler(), numerical_features),\n",
    "   ]\n",
    ")"
   ]
  },
  {
   "cell_type": "markdown",
   "metadata": {},
   "source": [
    "# First Model: `Gradient Boosting Regressor` "
   ]
  },
  {
   "cell_type": "markdown",
   "metadata": {},
   "source": [
    "### Pipeline for model"
   ]
  },
  {
   "cell_type": "code",
   "execution_count": 29,
   "metadata": {},
   "outputs": [],
   "source": [
    "pipeline1 = make_pipeline(preprocessor,\n",
    "                         GradientBoostingRegressor(random_state=42),\n",
    "                         verbose=True   \n",
    "                   )"
   ]
  },
  {
   "cell_type": "markdown",
   "metadata": {},
   "source": [
    "#### Access  parameters of a GBRegressor by default"
   ]
  },
  {
   "cell_type": "code",
   "execution_count": 40,
   "metadata": {},
   "outputs": [
    {
     "name": "stdout",
     "output_type": "stream",
     "text": [
      "\n",
      "Classifier parameters:\n",
      "alpha: 0.9\n",
      "ccp_alpha: 0.0\n",
      "criterion: friedman_mse\n",
      "init: None\n",
      "learning_rate: 0.1\n",
      "loss: squared_error\n",
      "max_depth: 3\n",
      "max_features: None\n",
      "max_leaf_nodes: None\n",
      "min_impurity_decrease: 0.0\n",
      "min_samples_leaf: 1\n",
      "min_samples_split: 2\n",
      "min_weight_fraction_leaf: 0.0\n",
      "n_estimators: 100\n",
      "n_iter_no_change: None\n",
      "random_state: 42\n",
      "subsample: 1.0\n",
      "tol: 0.0001\n",
      "validation_fraction: 0.1\n",
      "verbose: 0\n",
      "warm_start: False\n"
     ]
    }
   ],
   "source": [
    "classifier_params = pipeline1['gradientboostingregressor'].get_params()\n",
    "print(\"\\nClassifier parameters:\")\n",
    "for param, value in classifier_params.items():\n",
    "    print(f\"{param}: {value}\")\n"
   ]
  },
  {
   "cell_type": "markdown",
   "metadata": {},
   "source": [
    "### Training"
   ]
  },
  {
   "cell_type": "code",
   "execution_count": 30,
   "metadata": {},
   "outputs": [
    {
     "name": "stdout",
     "output_type": "stream",
     "text": [
      "Fit the model\n",
      "[Pipeline] . (step 1 of 2) Processing columntransformer, total=   0.1s\n",
      "[Pipeline]  (step 2 of 2) Processing gradientboostingregressor, total=   0.8s\n",
      "Gradient Boosting Regressor Report:\n",
      "MAE :  6.1010117480600545\n",
      "MSE :  270.7254938480834\n",
      "R2 :  0.8654224374701388\n",
      "RMSE :  270.7254938480834\n"
     ]
    }
   ],
   "source": [
    "print('Fit the model')\n",
    "pipeline1.fit(X_train, y_train)\n",
    "y_pred = pipeline1.predict(X_test)\n",
    "\n",
    "# Generate Gradient Boosting Regressor report\n",
    "MSE = mean_squared_error(y_test, y_pred) # measurement of the typical absolute discrepancies between a dataset's actual values and projected values.\n",
    "R2 = r2_score(y_test, y_pred) # measures the square root of the average discrepancies between a dataset's actual values and projected values\n",
    "MAE = mean_absolute_error(y_test, y_pred) # A statistical metric frequently used to assess the goodness of fit of a regression model is the R-squared (R2) score,\n",
    "RMSE = mean_squared_error(y_test, y_pred)\n",
    "\n",
    "print(\"Gradient Boosting Regressor Report:\")\n",
    "print('MAE : ',MAE)\n",
    "print('MSE : ',MSE)\n",
    "print('R2 : ',R2)\n",
    "print('RMSE : ',RMSE)"
   ]
  },
  {
   "cell_type": "markdown",
   "metadata": {},
   "source": [
    "#### Visualization of the prediction error of a GB model."
   ]
  },
  {
   "cell_type": "code",
   "execution_count": 76,
   "metadata": {},
   "outputs": [
    {
     "data": {
      "image/png": "[encoded data removed]",
      "text/plain": [
       "<Figure size 640x480 with 1 Axes>"
      ]
     },
     "metadata": {},
     "output_type": "display_data"
    }
   ],
   "source": [
    "disp = PredictionErrorDisplay.from_estimator(pipeline1, X, y)\n",
    "plt.show()"
   ]
  },
  {
   "cell_type": "markdown",
   "metadata": {},
   "source": [
    "### Grid search CV"
   ]
  },
  {
   "cell_type": "markdown",
   "metadata": {},
   "source": [
    "### Parameters for GBRsgressor"
   ]
  },
  {
   "cell_type": "code",
   "execution_count": null,
   "metadata": {},
   "outputs": [],
   "source": [
    "param_grid_GB = {\n",
    "    \"gradientboostingregressor__learning_rate\": [0.01, 0.1, 0.2, 1],\n",
    "    \"gradientboostingregressor__max_depth\":[3,5,8],\n",
    "    \"gradientboostingregressor__max_features\":[\"log2\",\"sqrt\"],\n",
    "    \"gradientboostingregressor__alpha\": [0.7, 0.8, 0.9],\n",
    "    \"gradientboostingregressor__criterion\": ['friedman_mse', 'squared_error'],\n",
    "    \"gradientboostingregressor__learning_rate\": [0.05, 0.1, 0.2, 0.5, 0.75, 1],\n",
    "    \"gradientboostingregressor__min_samples_leaf\": [1, 2, 5, 10],\n",
    "    \"gradientboostingregressor__min_samples_split\": [2, 4, 10],\n",
    "    \"gradientboostingregressor__n_estimators\": [50, 100, 200]\n",
    "    }"
   ]
  },
  {
   "cell_type": "code",
   "execution_count": 31,
   "metadata": {},
   "outputs": [
    {
     "name": "stdout",
     "output_type": "stream",
     "text": [
      "[Pipeline] . (step 1 of 2) Processing columntransformer, total=   0.0s\n",
      "[Pipeline]  (step 2 of 2) Processing gradientboostingregressor, total=   0.3s\n",
      "[Pipeline] . (step 1 of 2) Processing columntransformer, total=   0.0s\n",
      "[Pipeline]  (step 2 of 2) Processing gradientboostingregressor, total=   0.2s\n",
      "[Pipeline] . (step 1 of 2) Processing columntransformer, total=   0.0s\n",
      "[Pipeline]  (step 2 of 2) Processing gradientboostingregressor, total=   0.2s\n",
      "[Pipeline] . (step 1 of 2) Processing columntransformer, total=   0.0s\n",
      "[Pipeline]  (step 2 of 2) Processing gradientboostingregressor, total=   0.2s\n",
      "[Pipeline] . (step 1 of 2) Processing columntransformer, total=   0.0s\n",
      "[Pipeline]  (step 2 of 2) Processing gradientboostingregressor, total=   0.2s\n",
      "[Pipeline] . (step 1 of 2) Processing columntransformer, total=   0.0s\n",
      "[Pipeline]  (step 2 of 2) Processing gradientboostingregressor, total=   0.2s\n",
      "[Pipeline] . (step 1 of 2) Processing columntransformer, total=   0.0s\n",
      "[Pipeline]  (step 2 of 2) Processing gradientboostingregressor, total=   0.2s\n",
      "[Pipeline] . (step 1 of 2) Processing columntransformer, total=   0.0s\n",
      "[Pipeline]  (step 2 of 2) Processing gradientboostingregressor, total=   0.3s\n",
      "[Pipeline] . (step 1 of 2) Processing columntransformer, total=   0.0s\n",
      "[Pipeline]  (step 2 of 2) Processing gradientboostingregressor, total=   0.3s\n",
      "[Pipeline] . (step 1 of 2) Processing columntransformer, total=   0.0s\n",
      "[Pipeline]  (step 2 of 2) Processing gradientboostingregressor, total=   0.2s\n",
      "[Pipeline] . (step 1 of 2) Processing columntransformer, total=   0.0s\n",
      "[Pipeline]  (step 2 of 2) Processing gradientboostingregressor, total=   0.2s\n",
      "[Pipeline] . (step 1 of 2) Processing columntransformer, total=   0.0s\n",
      "[Pipeline]  (step 2 of 2) Processing gradientboostingregressor, total=   0.3s\n",
      "[Pipeline] . (step 1 of 2) Processing columntransformer, total=   0.0s\n",
      "[Pipeline]  (step 2 of 2) Processing gradientboostingregressor, total=   0.2s\n",
      "[Pipeline] . (step 1 of 2) Processing columntransformer, total=   0.0s\n",
      "[Pipeline]  (step 2 of 2) Processing gradientboostingregressor, total=   0.3s\n",
      "[Pipeline] . (step 1 of 2) Processing columntransformer, total=   0.0s\n",
      "[Pipeline]  (step 2 of 2) Processing gradientboostingregressor, total=   0.3s\n",
      "[Pipeline] . (step 1 of 2) Processing columntransformer, total=   0.0s\n",
      "[Pipeline]  (step 2 of 2) Processing gradientboostingregressor, total=   0.3s\n",
      "[Pipeline] . (step 1 of 2) Processing columntransformer, total=   0.0s\n",
      "[Pipeline]  (step 2 of 2) Processing gradientboostingregressor, total=   0.3s\n",
      "[Pipeline] . (step 1 of 2) Processing columntransformer, total=   0.0s\n",
      "[Pipeline]  (step 2 of 2) Processing gradientboostingregressor, total=   0.3s\n",
      "[Pipeline] . (step 1 of 2) Processing columntransformer, total=   0.0s\n",
      "[Pipeline]  (step 2 of 2) Processing gradientboostingregressor, total=   0.3s\n",
      "[Pipeline] . (step 1 of 2) Processing columntransformer, total=   0.0s\n",
      "[Pipeline]  (step 2 of 2) Processing gradientboostingregressor, total=   0.7s\n",
      "[Pipeline] . (step 1 of 2) Processing columntransformer, total=   0.1s\n",
      "[Pipeline]  (step 2 of 2) Processing gradientboostingregressor, total=   0.6s\n",
      "[Pipeline] . (step 1 of 2) Processing columntransformer, total=   0.0s\n",
      "[Pipeline]  (step 2 of 2) Processing gradientboostingregressor, total=   0.5s\n",
      "[Pipeline] . (step 1 of 2) Processing columntransformer, total=   0.0s\n",
      "[Pipeline]  (step 2 of 2) Processing gradientboostingregressor, total=   0.6s\n",
      "[Pipeline] . (step 1 of 2) Processing columntransformer, total=   0.0s\n",
      "[Pipeline]  (step 2 of 2) Processing gradientboostingregressor, total=   0.6s\n",
      "[Pipeline] . (step 1 of 2) Processing columntransformer, total=   0.0s\n",
      "[Pipeline]  (step 2 of 2) Processing gradientboostingregressor, total=   0.5s\n",
      "[Pipeline] . (step 1 of 2) Processing columntransformer, total=   0.0s\n",
      "[Pipeline]  (step 2 of 2) Processing gradientboostingregressor, total=   0.9s\n",
      "[Pipeline] . (step 1 of 2) Processing columntransformer, total=   0.0s\n",
      "[Pipeline]  (step 2 of 2) Processing gradientboostingregressor, total=   0.6s\n",
      "[Pipeline] . (step 1 of 2) Processing columntransformer, total=   0.0s\n",
      "[Pipeline]  (step 2 of 2) Processing gradientboostingregressor, total=   0.6s\n",
      "[Pipeline] . (step 1 of 2) Processing columntransformer, total=   0.0s\n",
      "[Pipeline]  (step 2 of 2) Processing gradientboostingregressor, total=   0.6s\n",
      "[Pipeline] . (step 1 of 2) Processing columntransformer, total=   0.0s\n",
      "[Pipeline]  (step 2 of 2) Processing gradientboostingregressor, total=   0.6s\n",
      "[Pipeline] . (step 1 of 2) Processing columntransformer, total=   0.0s\n",
      "[Pipeline]  (step 2 of 2) Processing gradientboostingregressor, total=   0.2s\n",
      "[Pipeline] . (step 1 of 2) Processing columntransformer, total=   0.0s\n",
      "[Pipeline]  (step 2 of 2) Processing gradientboostingregressor, total=   0.2s\n",
      "[Pipeline] . (step 1 of 2) Processing columntransformer, total=   0.0s\n",
      "[Pipeline]  (step 2 of 2) Processing gradientboostingregressor, total=   0.2s\n",
      "[Pipeline] . (step 1 of 2) Processing columntransformer, total=   0.0s\n",
      "[Pipeline]  (step 2 of 2) Processing gradientboostingregressor, total=   0.2s\n",
      "[Pipeline] . (step 1 of 2) Processing columntransformer, total=   0.0s\n",
      "[Pipeline]  (step 2 of 2) Processing gradientboostingregressor, total=   0.2s\n",
      "[Pipeline] . (step 1 of 2) Processing columntransformer, total=   0.0s\n",
      "[Pipeline]  (step 2 of 2) Processing gradientboostingregressor, total=   0.4s\n",
      "[Pipeline] . (step 1 of 2) Processing columntransformer, total=   0.1s\n",
      "[Pipeline]  (step 2 of 2) Processing gradientboostingregressor, total=   0.3s\n",
      "[Pipeline] . (step 1 of 2) Processing columntransformer, total=   0.1s\n",
      "[Pipeline]  (step 2 of 2) Processing gradientboostingregressor, total=   0.4s\n",
      "[Pipeline] . (step 1 of 2) Processing columntransformer, total=   0.1s\n",
      "[Pipeline]  (step 2 of 2) Processing gradientboostingregressor, total=   0.3s\n",
      "[Pipeline] . (step 1 of 2) Processing columntransformer, total=   0.0s\n",
      "[Pipeline]  (step 2 of 2) Processing gradientboostingregressor, total=   0.4s\n",
      "[Pipeline] . (step 1 of 2) Processing columntransformer, total=   0.0s\n",
      "[Pipeline]  (step 2 of 2) Processing gradientboostingregressor, total=   0.3s\n",
      "[Pipeline] . (step 1 of 2) Processing columntransformer, total=   0.0s\n",
      "[Pipeline]  (step 2 of 2) Processing gradientboostingregressor, total=   0.3s\n",
      "[Pipeline] . (step 1 of 2) Processing columntransformer, total=   0.0s\n",
      "[Pipeline]  (step 2 of 2) Processing gradientboostingregressor, total=   0.4s\n",
      "[Pipeline] . (step 1 of 2) Processing columntransformer, total=   0.0s\n",
      "[Pipeline]  (step 2 of 2) Processing gradientboostingregressor, total=   0.3s\n",
      "[Pipeline] . (step 1 of 2) Processing columntransformer, total=   0.0s\n",
      "[Pipeline]  (step 2 of 2) Processing gradientboostingregressor, total=   0.3s\n",
      "[Pipeline] . (step 1 of 2) Processing columntransformer, total=   0.0s\n",
      "[Pipeline]  (step 2 of 2) Processing gradientboostingregressor, total=   0.3s\n",
      "[Pipeline] . (step 1 of 2) Processing columntransformer, total=   0.0s\n",
      "[Pipeline]  (step 2 of 2) Processing gradientboostingregressor, total=   0.3s\n",
      "[Pipeline] . (step 1 of 2) Processing columntransformer, total=   0.0s\n",
      "[Pipeline]  (step 2 of 2) Processing gradientboostingregressor, total=   0.4s\n",
      "[Pipeline] . (step 1 of 2) Processing columntransformer, total=   0.0s\n",
      "[Pipeline]  (step 2 of 2) Processing gradientboostingregressor, total=   0.4s\n",
      "[Pipeline] . (step 1 of 2) Processing columntransformer, total=   0.0s\n",
      "[Pipeline]  (step 2 of 2) Processing gradientboostingregressor, total=   0.4s\n",
      "[Pipeline] . (step 1 of 2) Processing columntransformer, total=   0.0s\n",
      "[Pipeline]  (step 2 of 2) Processing gradientboostingregressor, total=   0.6s\n",
      "[Pipeline] . (step 1 of 2) Processing columntransformer, total=   0.0s\n",
      "[Pipeline]  (step 2 of 2) Processing gradientboostingregressor, total=   0.7s\n",
      "[Pipeline] . (step 1 of 2) Processing columntransformer, total=   0.1s\n",
      "[Pipeline]  (step 2 of 2) Processing gradientboostingregressor, total=   0.6s\n",
      "[Pipeline] . (step 1 of 2) Processing columntransformer, total=   0.0s\n",
      "[Pipeline]  (step 2 of 2) Processing gradientboostingregressor, total=   0.6s\n",
      "[Pipeline] . (step 1 of 2) Processing columntransformer, total=   0.0s\n",
      "[Pipeline]  (step 2 of 2) Processing gradientboostingregressor, total=   0.5s\n",
      "[Pipeline] . (step 1 of 2) Processing columntransformer, total=   0.0s\n",
      "[Pipeline]  (step 2 of 2) Processing gradientboostingregressor, total=   0.6s\n",
      "[Pipeline] . (step 1 of 2) Processing columntransformer, total=   0.0s\n",
      "[Pipeline]  (step 2 of 2) Processing gradientboostingregressor, total=   0.7s\n",
      "[Pipeline] . (step 1 of 2) Processing columntransformer, total=   0.0s\n",
      "[Pipeline]  (step 2 of 2) Processing gradientboostingregressor, total=   0.7s\n",
      "[Pipeline] . (step 1 of 2) Processing columntransformer, total=   0.0s\n",
      "[Pipeline]  (step 2 of 2) Processing gradientboostingregressor, total=   0.5s\n",
      "[Pipeline] . (step 1 of 2) Processing columntransformer, total=   0.0s\n",
      "[Pipeline]  (step 2 of 2) Processing gradientboostingregressor, total=   0.5s\n",
      "[Pipeline] . (step 1 of 2) Processing columntransformer, total=   0.0s\n",
      "[Pipeline]  (step 2 of 2) Processing gradientboostingregressor, total=   0.2s\n",
      "[Pipeline] . (step 1 of 2) Processing columntransformer, total=   0.0s\n",
      "[Pipeline]  (step 2 of 2) Processing gradientboostingregressor, total=   0.4s\n",
      "[Pipeline] . (step 1 of 2) Processing columntransformer, total=   0.0s\n",
      "[Pipeline]  (step 2 of 2) Processing gradientboostingregressor, total=   0.3s\n",
      "[Pipeline] . (step 1 of 2) Processing columntransformer, total=   0.0s\n",
      "[Pipeline]  (step 2 of 2) Processing gradientboostingregressor, total=   0.2s\n",
      "[Pipeline] . (step 1 of 2) Processing columntransformer, total=   0.0s\n",
      "[Pipeline]  (step 2 of 2) Processing gradientboostingregressor, total=   0.2s\n",
      "[Pipeline] . (step 1 of 2) Processing columntransformer, total=   0.1s\n",
      "[Pipeline]  (step 2 of 2) Processing gradientboostingregressor, total=   0.4s\n",
      "[Pipeline] . (step 1 of 2) Processing columntransformer, total=   0.0s\n",
      "[Pipeline]  (step 2 of 2) Processing gradientboostingregressor, total=   0.2s\n",
      "[Pipeline] . (step 1 of 2) Processing columntransformer, total=   0.0s\n",
      "[Pipeline]  (step 2 of 2) Processing gradientboostingregressor, total=   0.3s\n",
      "[Pipeline] . (step 1 of 2) Processing columntransformer, total=   0.0s\n",
      "[Pipeline]  (step 2 of 2) Processing gradientboostingregressor, total=   0.3s\n",
      "[Pipeline] . (step 1 of 2) Processing columntransformer, total=   0.0s\n",
      "[Pipeline]  (step 2 of 2) Processing gradientboostingregressor, total=   0.2s\n",
      "[Pipeline] . (step 1 of 2) Processing columntransformer, total=   0.0s\n",
      "[Pipeline]  (step 2 of 2) Processing gradientboostingregressor, total=   0.3s\n",
      "[Pipeline] . (step 1 of 2) Processing columntransformer, total=   0.0s\n",
      "[Pipeline]  (step 2 of 2) Processing gradientboostingregressor, total=   0.3s\n",
      "[Pipeline] . (step 1 of 2) Processing columntransformer, total=   0.0s\n",
      "[Pipeline]  (step 2 of 2) Processing gradientboostingregressor, total=   0.3s\n",
      "[Pipeline] . (step 1 of 2) Processing columntransformer, total=   0.0s\n",
      "[Pipeline]  (step 2 of 2) Processing gradientboostingregressor, total=   0.4s\n",
      "[Pipeline] . (step 1 of 2) Processing columntransformer, total=   0.0s\n",
      "[Pipeline]  (step 2 of 2) Processing gradientboostingregressor, total=   0.2s\n",
      "[Pipeline] . (step 1 of 2) Processing columntransformer, total=   0.0s\n",
      "[Pipeline]  (step 2 of 2) Processing gradientboostingregressor, total=   0.3s\n",
      "[Pipeline] . (step 1 of 2) Processing columntransformer, total=   0.0s\n",
      "[Pipeline]  (step 2 of 2) Processing gradientboostingregressor, total=   0.3s\n",
      "[Pipeline] . (step 1 of 2) Processing columntransformer, total=   0.0s\n",
      "[Pipeline]  (step 2 of 2) Processing gradientboostingregressor, total=   0.3s\n",
      "[Pipeline] . (step 1 of 2) Processing columntransformer, total=   0.0s\n",
      "[Pipeline]  (step 2 of 2) Processing gradientboostingregressor, total=   0.3s\n",
      "[Pipeline] . (step 1 of 2) Processing columntransformer, total=   0.0s\n",
      "[Pipeline]  (step 2 of 2) Processing gradientboostingregressor, total=   0.3s\n",
      "[Pipeline] . (step 1 of 2) Processing columntransformer, total=   0.0s\n",
      "[Pipeline]  (step 2 of 2) Processing gradientboostingregressor, total=   0.4s\n",
      "[Pipeline] . (step 1 of 2) Processing columntransformer, total=   0.0s\n",
      "[Pipeline]  (step 2 of 2) Processing gradientboostingregressor, total=   0.4s\n",
      "[Pipeline] . (step 1 of 2) Processing columntransformer, total=   0.0s\n",
      "[Pipeline]  (step 2 of 2) Processing gradientboostingregressor, total=   0.4s\n",
      "[Pipeline] . (step 1 of 2) Processing columntransformer, total=   0.0s\n",
      "[Pipeline]  (step 2 of 2) Processing gradientboostingregressor, total=   0.6s\n",
      "[Pipeline] . (step 1 of 2) Processing columntransformer, total=   0.0s\n",
      "[Pipeline]  (step 2 of 2) Processing gradientboostingregressor, total=   0.6s\n",
      "[Pipeline] . (step 1 of 2) Processing columntransformer, total=   0.0s\n",
      "[Pipeline]  (step 2 of 2) Processing gradientboostingregressor, total=   0.6s\n",
      "[Pipeline] . (step 1 of 2) Processing columntransformer, total=   0.0s\n",
      "[Pipeline]  (step 2 of 2) Processing gradientboostingregressor, total=   0.6s\n",
      "[Pipeline] . (step 1 of 2) Processing columntransformer, total=   0.0s\n",
      "[Pipeline]  (step 2 of 2) Processing gradientboostingregressor, total=   0.7s\n",
      "[Pipeline] . (step 1 of 2) Processing columntransformer, total=   0.0s\n",
      "[Pipeline]  (step 2 of 2) Processing gradientboostingregressor, total=   0.6s\n",
      "[Pipeline] . (step 1 of 2) Processing columntransformer, total=   0.0s\n",
      "[Pipeline]  (step 2 of 2) Processing gradientboostingregressor, total=   0.7s\n",
      "[Pipeline] . (step 1 of 2) Processing columntransformer, total=   0.0s\n",
      "[Pipeline]  (step 2 of 2) Processing gradientboostingregressor, total=   0.2s\n",
      "[Pipeline] . (step 1 of 2) Processing columntransformer, total=   0.1s\n",
      "[Pipeline]  (step 2 of 2) Processing gradientboostingregressor, total=   0.4s\n",
      "[Pipeline] . (step 1 of 2) Processing columntransformer, total=   0.0s\n",
      "[Pipeline]  (step 2 of 2) Processing gradientboostingregressor, total=   0.3s\n",
      "[Pipeline] . (step 1 of 2) Processing columntransformer, total=   0.0s\n",
      "[Pipeline]  (step 2 of 2) Processing gradientboostingregressor, total=   0.5s\n",
      "[Pipeline] . (step 1 of 2) Processing columntransformer, total=   0.0s\n",
      "[Pipeline]  (step 2 of 2) Processing gradientboostingregressor, total=   0.3s\n",
      "[Pipeline] . (step 1 of 2) Processing columntransformer, total=   0.0s\n",
      "[Pipeline]  (step 2 of 2) Processing gradientboostingregressor, total=   0.2s\n",
      "[Pipeline] . (step 1 of 2) Processing columntransformer, total=   0.0s\n",
      "[Pipeline]  (step 2 of 2) Processing gradientboostingregressor, total=   0.3s\n",
      "[Pipeline] . (step 1 of 2) Processing columntransformer, total=   0.0s\n",
      "[Pipeline]  (step 2 of 2) Processing gradientboostingregressor, total=   0.3s\n",
      "[Pipeline] . (step 1 of 2) Processing columntransformer, total=   0.0s\n",
      "[Pipeline]  (step 2 of 2) Processing gradientboostingregressor, total=   0.3s\n",
      "[Pipeline] . (step 1 of 2) Processing columntransformer, total=   0.0s\n",
      "[Pipeline]  (step 2 of 2) Processing gradientboostingregressor, total=   0.2s\n",
      "[Pipeline] . (step 1 of 2) Processing columntransformer, total=   0.0s\n",
      "[Pipeline]  (step 2 of 2) Processing gradientboostingregressor, total=   0.2s\n",
      "[Pipeline] . (step 1 of 2) Processing columntransformer, total=   0.0s\n",
      "[Pipeline]  (step 2 of 2) Processing gradientboostingregressor, total=   0.3s\n",
      "[Pipeline] . (step 1 of 2) Processing columntransformer, total=   0.0s\n",
      "[Pipeline]  (step 2 of 2) Processing gradientboostingregressor, total=   0.2s\n",
      "[Pipeline] . (step 1 of 2) Processing columntransformer, total=   0.0s\n",
      "[Pipeline]  (step 2 of 2) Processing gradientboostingregressor, total=   0.3s\n",
      "[Pipeline] . (step 1 of 2) Processing columntransformer, total=   0.0s\n",
      "[Pipeline]  (step 2 of 2) Processing gradientboostingregressor, total=   0.2s\n",
      "[Pipeline] . (step 1 of 2) Processing columntransformer, total=   0.0s\n",
      "[Pipeline]  (step 2 of 2) Processing gradientboostingregressor, total=   0.3s\n",
      "[Pipeline] . (step 1 of 2) Processing columntransformer, total=   0.0s\n",
      "[Pipeline]  (step 2 of 2) Processing gradientboostingregressor, total=   0.4s\n",
      "[Pipeline] . (step 1 of 2) Processing columntransformer, total=   0.0s\n",
      "[Pipeline]  (step 2 of 2) Processing gradientboostingregressor, total=   0.3s\n",
      "[Pipeline] . (step 1 of 2) Processing columntransformer, total=   0.1s\n",
      "[Pipeline]  (step 2 of 2) Processing gradientboostingregressor, total=   0.3s\n",
      "[Pipeline] . (step 1 of 2) Processing columntransformer, total=   0.0s\n",
      "[Pipeline]  (step 2 of 2) Processing gradientboostingregressor, total=   0.3s\n",
      "[Pipeline] . (step 1 of 2) Processing columntransformer, total=   0.0s\n",
      "[Pipeline]  (step 2 of 2) Processing gradientboostingregressor, total=   0.5s\n",
      "[Pipeline] . (step 1 of 2) Processing columntransformer, total=   0.0s\n",
      "[Pipeline]  (step 2 of 2) Processing gradientboostingregressor, total=   0.7s\n",
      "[Pipeline] . (step 1 of 2) Processing columntransformer, total=   0.0s\n",
      "[Pipeline]  (step 2 of 2) Processing gradientboostingregressor, total=   0.4s\n",
      "[Pipeline] . (step 1 of 2) Processing columntransformer, total=   0.0s\n",
      "[Pipeline]  (step 2 of 2) Processing gradientboostingregressor, total=   0.4s\n",
      "[Pipeline] . (step 1 of 2) Processing columntransformer, total=   0.0s\n",
      "[Pipeline]  (step 2 of 2) Processing gradientboostingregressor, total=   0.5s\n",
      "[Pipeline] . (step 1 of 2) Processing columntransformer, total=   0.0s\n",
      "[Pipeline]  (step 2 of 2) Processing gradientboostingregressor, total=   0.7s\n",
      "[Pipeline] . (step 1 of 2) Processing columntransformer, total=   0.0s\n",
      "[Pipeline]  (step 2 of 2) Processing gradientboostingregressor, total=   0.7s\n",
      "[Pipeline] . (step 1 of 2) Processing columntransformer, total=   0.0s\n",
      "[Pipeline]  (step 2 of 2) Processing gradientboostingregressor, total=   0.5s\n",
      "[Pipeline] . (step 1 of 2) Processing columntransformer, total=   0.0s\n",
      "[Pipeline]  (step 2 of 2) Processing gradientboostingregressor, total=   0.5s\n",
      "[Pipeline] . (step 1 of 2) Processing columntransformer, total=   0.0s\n",
      "[Pipeline]  (step 2 of 2) Processing gradientboostingregressor, total=   0.5s\n",
      "[Pipeline] . (step 1 of 2) Processing columntransformer, total=   0.0s\n",
      "[Pipeline]  (step 2 of 2) Processing gradientboostingregressor, total=   0.2s\n"
     ]
    },
    {
     "data": {
      "text/html": [
       "<style>#sk-container-id-2 {\n",
       "  /* Definition of color scheme common for light and dark mode */\n",
       "  --sklearn-color-text: black;\n",
       "  --sklearn-color-line: gray;\n",
       "  /* Definition of color scheme for unfitted estimators */\n",
       "  --sklearn-color-unfitted-level-0: #fff5e6;\n",
       "  --sklearn-color-unfitted-level-1: #f6e4d2;\n",
       "  --sklearn-color-unfitted-level-2: #ffe0b3;\n",
       "  --sklearn-color-unfitted-level-3: chocolate;\n",
       "  /* Definition of color scheme for fitted estimators */\n",
       "  --sklearn-color-fitted-level-0: #f0f8ff;\n",
       "  --sklearn-color-fitted-level-1: #d4ebff;\n",
       "  --sklearn-color-fitted-level-2: #b3dbfd;\n",
       "  --sklearn-color-fitted-level-3: cornflowerblue;\n",
       "\n",
       "  /* Specific color for light theme */\n",
       "  --sklearn-color-text-on-default-background: var(--sg-text-color, var(--theme-code-foreground, var(--jp-content-font-color1, black)));\n",
       "  --sklearn-color-background: var(--sg-background-color, var(--theme-background, var(--jp-layout-color0, white)));\n",
       "  --sklearn-color-border-box: var(--sg-text-color, var(--theme-code-foreground, var(--jp-content-font-color1, black)));\n",
       "  --sklearn-color-icon: #696969;\n",
       "\n",
       "  @media (prefers-color-scheme: dark) {\n",
       "    /* Redefinition of color scheme for dark theme */\n",
       "    --sklearn-color-text-on-default-background: var(--sg-text-color, var(--theme-code-foreground, var(--jp-content-font-color1, white)));\n",
       "    --sklearn-color-background: var(--sg-background-color, var(--theme-background, var(--jp-layout-color0, #111)));\n",
       "    --sklearn-color-border-box: var(--sg-text-color, var(--theme-code-foreground, var(--jp-content-font-color1, white)));\n",
       "    --sklearn-color-icon: #878787;\n",
       "  }\n",
       "}\n",
       "\n",
       "#sk-container-id-2 {\n",
       "  color: var(--sklearn-color-text);\n",
       "}\n",
       "\n",
       "#sk-container-id-2 pre {\n",
       "  padding: 0;\n",
       "}\n",
       "\n",
       "#sk-container-id-2 input.sk-hidden--visually {\n",
       "  border: 0;\n",
       "  clip: rect(1px 1px 1px 1px);\n",
       "  clip: rect(1px, 1px, 1px, 1px);\n",
       "  height: 1px;\n",
       "  margin: -1px;\n",
       "  overflow: hidden;\n",
       "  padding: 0;\n",
       "  position: absolute;\n",
       "  width: 1px;\n",
       "}\n",
       "\n",
       "#sk-container-id-2 div.sk-dashed-wrapped {\n",
       "  border: 1px dashed var(--sklearn-color-line);\n",
       "  margin: 0 0.4em 0.5em 0.4em;\n",
       "  box-sizing: border-box;\n",
       "  padding-bottom: 0.4em;\n",
       "  background-color: var(--sklearn-color-background);\n",
       "}\n",
       "\n",
       "#sk-container-id-2 div.sk-container {\n",
       "  /* jupyter's `normalize.less` sets `[hidden] { display: none; }`\n",
       "     but bootstrap.min.css set `[hidden] { display: none !important; }`\n",
       "     so we also need the `!important` here to be able to override the\n",
       "     default hidden behavior on the sphinx rendered scikit-learn.org.\n",
       "     See: https://github.com/scikit-learn/scikit-learn/issues/21755 */\n",
       "  display: inline-block !important;\n",
       "  position: relative;\n",
       "}\n",
       "\n",
       "#sk-container-id-2 div.sk-text-repr-fallback {\n",
       "  display: none;\n",
       "}\n",
       "\n",
       "div.sk-parallel-item,\n",
       "div.sk-serial,\n",
       "div.sk-item {\n",
       "  /* draw centered vertical line to link estimators */\n",
       "  background-image: linear-gradient(var(--sklearn-color-text-on-default-background), var(--sklearn-color-text-on-default-background));\n",
       "  background-size: 2px 100%;\n",
       "  background-repeat: no-repeat;\n",
       "  background-position: center center;\n",
       "}\n",
       "\n",
       "/* Parallel-specific style estimator block */\n",
       "\n",
       "#sk-container-id-2 div.sk-parallel-item::after {\n",
       "  content: \"\";\n",
       "  width: 100%;\n",
       "  border-bottom: 2px solid var(--sklearn-color-text-on-default-background);\n",
       "  flex-grow: 1;\n",
       "}\n",
       "\n",
       "#sk-container-id-2 div.sk-parallel {\n",
       "  display: flex;\n",
       "  align-items: stretch;\n",
       "  justify-content: center;\n",
       "  background-color: var(--sklearn-color-background);\n",
       "  position: relative;\n",
       "}\n",
       "\n",
       "#sk-container-id-2 div.sk-parallel-item {\n",
       "  display: flex;\n",
       "  flex-direction: column;\n",
       "}\n",
       "\n",
       "#sk-container-id-2 div.sk-parallel-item:first-child::after {\n",
       "  align-self: flex-end;\n",
       "  width: 50%;\n",
       "}\n",
       "\n",
       "#sk-container-id-2 div.sk-parallel-item:last-child::after {\n",
       "  align-self: flex-start;\n",
       "  width: 50%;\n",
       "}\n",
       "\n",
       "#sk-container-id-2 div.sk-parallel-item:only-child::after {\n",
       "  width: 0;\n",
       "}\n",
       "\n",
       "/* Serial-specific style estimator block */\n",
       "\n",
       "#sk-container-id-2 div.sk-serial {\n",
       "  display: flex;\n",
       "  flex-direction: column;\n",
       "  align-items: center;\n",
       "  background-color: var(--sklearn-color-background);\n",
       "  padding-right: 1em;\n",
       "  padding-left: 1em;\n",
       "}\n",
       "\n",
       "\n",
       "/* Toggleable style: style used for estimator/Pipeline/ColumnTransformer box that is\n",
       "clickable and can be expanded/collapsed.\n",
       "- Pipeline and ColumnTransformer use this feature and define the default style\n",
       "- Estimators will overwrite some part of the style using the `sk-estimator` class\n",
       "*/\n",
       "\n",
       "/* Pipeline and ColumnTransformer style (default) */\n",
       "\n",
       "#sk-container-id-2 div.sk-toggleable {\n",
       "  /* Default theme specific background. It is overwritten whether we have a\n",
       "  specific estimator or a Pipeline/ColumnTransformer */\n",
       "  background-color: var(--sklearn-color-background);\n",
       "}\n",
       "\n",
       "/* Toggleable label */\n",
       "#sk-container-id-2 label.sk-toggleable__label {\n",
       "  cursor: pointer;\n",
       "  display: block;\n",
       "  width: 100%;\n",
       "  margin-bottom: 0;\n",
       "  padding: 0.5em;\n",
       "  box-sizing: border-box;\n",
       "  text-align: center;\n",
       "}\n",
       "\n",
       "#sk-container-id-2 label.sk-toggleable__label-arrow:before {\n",
       "  /* Arrow on the left of the label */\n",
       "  content: \"▸\";\n",
       "  float: left;\n",
       "  margin-right: 0.25em;\n",
       "  color: var(--sklearn-color-icon);\n",
       "}\n",
       "\n",
       "#sk-container-id-2 label.sk-toggleable__label-arrow:hover:before {\n",
       "  color: var(--sklearn-color-text);\n",
       "}\n",
       "\n",
       "/* Toggleable content - dropdown */\n",
       "\n",
       "#sk-container-id-2 div.sk-toggleable__content {\n",
       "  max-height: 0;\n",
       "  max-width: 0;\n",
       "  overflow: hidden;\n",
       "  text-align: left;\n",
       "  /* unfitted */\n",
       "  background-color: var(--sklearn-color-unfitted-level-0);\n",
       "}\n",
       "\n",
       "#sk-container-id-2 div.sk-toggleable__content.fitted {\n",
       "  /* fitted */\n",
       "  background-color: var(--sklearn-color-fitted-level-0);\n",
       "}\n",
       "\n",
       "#sk-container-id-2 div.sk-toggleable__content pre {\n",
       "  margin: 0.2em;\n",
       "  border-radius: 0.25em;\n",
       "  color: var(--sklearn-color-text);\n",
       "  /* unfitted */\n",
       "  background-color: var(--sklearn-color-unfitted-level-0);\n",
       "}\n",
       "\n",
       "#sk-container-id-2 div.sk-toggleable__content.fitted pre {\n",
       "  /* unfitted */\n",
       "  background-color: var(--sklearn-color-fitted-level-0);\n",
       "}\n",
       "\n",
       "#sk-container-id-2 input.sk-toggleable__control:checked~div.sk-toggleable__content {\n",
       "  /* Expand drop-down */\n",
       "  max-height: 200px;\n",
       "  max-width: 100%;\n",
       "  overflow: auto;\n",
       "}\n",
       "\n",
       "#sk-container-id-2 input.sk-toggleable__control:checked~label.sk-toggleable__label-arrow:before {\n",
       "  content: \"▾\";\n",
       "}\n",
       "\n",
       "/* Pipeline/ColumnTransformer-specific style */\n",
       "\n",
       "#sk-container-id-2 div.sk-label input.sk-toggleable__control:checked~label.sk-toggleable__label {\n",
       "  color: var(--sklearn-color-text);\n",
       "  background-color: var(--sklearn-color-unfitted-level-2);\n",
       "}\n",
       "\n",
       "#sk-container-id-2 div.sk-label.fitted input.sk-toggleable__control:checked~label.sk-toggleable__label {\n",
       "  background-color: var(--sklearn-color-fitted-level-2);\n",
       "}\n",
       "\n",
       "/* Estimator-specific style */\n",
       "\n",
       "/* Colorize estimator box */\n",
       "#sk-container-id-2 div.sk-estimator input.sk-toggleable__control:checked~label.sk-toggleable__label {\n",
       "  /* unfitted */\n",
       "  background-color: var(--sklearn-color-unfitted-level-2);\n",
       "}\n",
       "\n",
       "#sk-container-id-2 div.sk-estimator.fitted input.sk-toggleable__control:checked~label.sk-toggleable__label {\n",
       "  /* fitted */\n",
       "  background-color: var(--sklearn-color-fitted-level-2);\n",
       "}\n",
       "\n",
       "#sk-container-id-2 div.sk-label label.sk-toggleable__label,\n",
       "#sk-container-id-2 div.sk-label label {\n",
       "  /* The background is the default theme color */\n",
       "  color: var(--sklearn-color-text-on-default-background);\n",
       "}\n",
       "\n",
       "/* On hover, darken the color of the background */\n",
       "#sk-container-id-2 div.sk-label:hover label.sk-toggleable__label {\n",
       "  color: var(--sklearn-color-text);\n",
       "  background-color: var(--sklearn-color-unfitted-level-2);\n",
       "}\n",
       "\n",
       "/* Label box, darken color on hover, fitted */\n",
       "#sk-container-id-2 div.sk-label.fitted:hover label.sk-toggleable__label.fitted {\n",
       "  color: var(--sklearn-color-text);\n",
       "  background-color: var(--sklearn-color-fitted-level-2);\n",
       "}\n",
       "\n",
       "/* Estimator label */\n",
       "\n",
       "#sk-container-id-2 div.sk-label label {\n",
       "  font-family: monospace;\n",
       "  font-weight: bold;\n",
       "  display: inline-block;\n",
       "  line-height: 1.2em;\n",
       "}\n",
       "\n",
       "#sk-container-id-2 div.sk-label-container {\n",
       "  text-align: center;\n",
       "}\n",
       "\n",
       "/* Estimator-specific */\n",
       "#sk-container-id-2 div.sk-estimator {\n",
       "  font-family: monospace;\n",
       "  border: 1px dotted var(--sklearn-color-border-box);\n",
       "  border-radius: 0.25em;\n",
       "  box-sizing: border-box;\n",
       "  margin-bottom: 0.5em;\n",
       "  /* unfitted */\n",
       "  background-color: var(--sklearn-color-unfitted-level-0);\n",
       "}\n",
       "\n",
       "#sk-container-id-2 div.sk-estimator.fitted {\n",
       "  /* fitted */\n",
       "  background-color: var(--sklearn-color-fitted-level-0);\n",
       "}\n",
       "\n",
       "/* on hover */\n",
       "#sk-container-id-2 div.sk-estimator:hover {\n",
       "  /* unfitted */\n",
       "  background-color: var(--sklearn-color-unfitted-level-2);\n",
       "}\n",
       "\n",
       "#sk-container-id-2 div.sk-estimator.fitted:hover {\n",
       "  /* fitted */\n",
       "  background-color: var(--sklearn-color-fitted-level-2);\n",
       "}\n",
       "\n",
       "/* Specification for estimator info (e.g. \"i\" and \"?\") */\n",
       "\n",
       "/* Common style for \"i\" and \"?\" */\n",
       "\n",
       ".sk-estimator-doc-link,\n",
       "a:link.sk-estimator-doc-link,\n",
       "a:visited.sk-estimator-doc-link {\n",
       "  float: right;\n",
       "  font-size: smaller;\n",
       "  line-height: 1em;\n",
       "  font-family: monospace;\n",
       "  background-color: var(--sklearn-color-background);\n",
       "  border-radius: 1em;\n",
       "  height: 1em;\n",
       "  width: 1em;\n",
       "  text-decoration: none !important;\n",
       "  margin-left: 1ex;\n",
       "  /* unfitted */\n",
       "  border: var(--sklearn-color-unfitted-level-1) 1pt solid;\n",
       "  color: var(--sklearn-color-unfitted-level-1);\n",
       "}\n",
       "\n",
       ".sk-estimator-doc-link.fitted,\n",
       "a:link.sk-estimator-doc-link.fitted,\n",
       "a:visited.sk-estimator-doc-link.fitted {\n",
       "  /* fitted */\n",
       "  border: var(--sklearn-color-fitted-level-1) 1pt solid;\n",
       "  color: var(--sklearn-color-fitted-level-1);\n",
       "}\n",
       "\n",
       "/* On hover */\n",
       "div.sk-estimator:hover .sk-estimator-doc-link:hover,\n",
       ".sk-estimator-doc-link:hover,\n",
       "div.sk-label-container:hover .sk-estimator-doc-link:hover,\n",
       ".sk-estimator-doc-link:hover {\n",
       "  /* unfitted */\n",
       "  background-color: var(--sklearn-color-unfitted-level-3);\n",
       "  color: var(--sklearn-color-background);\n",
       "  text-decoration: none;\n",
       "}\n",
       "\n",
       "div.sk-estimator.fitted:hover .sk-estimator-doc-link.fitted:hover,\n",
       ".sk-estimator-doc-link.fitted:hover,\n",
       "div.sk-label-container:hover .sk-estimator-doc-link.fitted:hover,\n",
       ".sk-estimator-doc-link.fitted:hover {\n",
       "  /* fitted */\n",
       "  background-color: var(--sklearn-color-fitted-level-3);\n",
       "  color: var(--sklearn-color-background);\n",
       "  text-decoration: none;\n",
       "}\n",
       "\n",
       "/* Span, style for the box shown on hovering the info icon */\n",
       ".sk-estimator-doc-link span {\n",
       "  display: none;\n",
       "  z-index: 9999;\n",
       "  position: relative;\n",
       "  font-weight: normal;\n",
       "  right: .2ex;\n",
       "  padding: .5ex;\n",
       "  margin: .5ex;\n",
       "  width: min-content;\n",
       "  min-width: 20ex;\n",
       "  max-width: 50ex;\n",
       "  color: var(--sklearn-color-text);\n",
       "  box-shadow: 2pt 2pt 4pt #999;\n",
       "  /* unfitted */\n",
       "  background: var(--sklearn-color-unfitted-level-0);\n",
       "  border: .5pt solid var(--sklearn-color-unfitted-level-3);\n",
       "}\n",
       "\n",
       ".sk-estimator-doc-link.fitted span {\n",
       "  /* fitted */\n",
       "  background: var(--sklearn-color-fitted-level-0);\n",
       "  border: var(--sklearn-color-fitted-level-3);\n",
       "}\n",
       "\n",
       ".sk-estimator-doc-link:hover span {\n",
       "  display: block;\n",
       "}\n",
       "\n",
       "/* \"?\"-specific style due to the `<a>` HTML tag */\n",
       "\n",
       "#sk-container-id-2 a.estimator_doc_link {\n",
       "  float: right;\n",
       "  font-size: 1rem;\n",
       "  line-height: 1em;\n",
       "  font-family: monospace;\n",
       "  background-color: var(--sklearn-color-background);\n",
       "  border-radius: 1rem;\n",
       "  height: 1rem;\n",
       "  width: 1rem;\n",
       "  text-decoration: none;\n",
       "  /* unfitted */\n",
       "  color: var(--sklearn-color-unfitted-level-1);\n",
       "  border: var(--sklearn-color-unfitted-level-1) 1pt solid;\n",
       "}\n",
       "\n",
       "#sk-container-id-2 a.estimator_doc_link.fitted {\n",
       "  /* fitted */\n",
       "  border: var(--sklearn-color-fitted-level-1) 1pt solid;\n",
       "  color: var(--sklearn-color-fitted-level-1);\n",
       "}\n",
       "\n",
       "/* On hover */\n",
       "#sk-container-id-2 a.estimator_doc_link:hover {\n",
       "  /* unfitted */\n",
       "  background-color: var(--sklearn-color-unfitted-level-3);\n",
       "  color: var(--sklearn-color-background);\n",
       "  text-decoration: none;\n",
       "}\n",
       "\n",
       "#sk-container-id-2 a.estimator_doc_link.fitted:hover {\n",
       "  /* fitted */\n",
       "  background-color: var(--sklearn-color-fitted-level-3);\n",
       "}\n",
       "</style><div id=\"sk-container-id-2\" class=\"sk-top-container\"><div class=\"sk-text-repr-fallback\"><pre>GridSearchCV(cv=5,\n",
       "             estimator=Pipeline(steps=[(&#x27;columntransformer&#x27;,\n",
       "                                        ColumnTransformer(transformers=[(&#x27;cat&#x27;,\n",
       "                                                                         OneHotEncoder(handle_unknown=&#x27;ignore&#x27;),\n",
       "                                                                         [&#x27;Ship &#x27;\n",
       "                                                                          &#x27;Mode&#x27;,\n",
       "                                                                          &#x27;Segment&#x27;,\n",
       "                                                                          &#x27;Country&#x27;,\n",
       "                                                                          &#x27;Market&#x27;,\n",
       "                                                                          &#x27;Region&#x27;,\n",
       "                                                                          &#x27;Category&#x27;,\n",
       "                                                                          &#x27;Sub-Category&#x27;,\n",
       "                                                                          &#x27;Order &#x27;\n",
       "                                                                          &#x27;Priority&#x27;]),\n",
       "                                                                        (&#x27;num&#x27;,\n",
       "                                                                         StandardScaler(),\n",
       "                                                                         [&#x27;Sales&#x27;,\n",
       "                                                                          &#x27;Quantity&#x27;,\n",
       "                                                                          &#x27;Profit&#x27;,\n",
       "                                                                          &#x27;Shipping &#x27;\n",
       "                                                                          &#x27;days&#x27;])])),\n",
       "                                       (&#x27;gradientboostingregressor&#x27;,\n",
       "                                        GradientBoostingRegressor(random_state=42))],\n",
       "                                verbose=True),\n",
       "             param_grid={&#x27;gradientboostingregressor__learning_rate&#x27;: [0.01, 0.1,\n",
       "                                                                      0.2, 1],\n",
       "                         &#x27;gradientboostingregressor__max_depth&#x27;: [3, 5, 8],\n",
       "                         &#x27;gradientboostingregressor__max_features&#x27;: [&#x27;log2&#x27;,\n",
       "                                                                     &#x27;sqrt&#x27;]},\n",
       "             scoring=&#x27;neg_mean_squared_error&#x27;)</pre><b>In a Jupyter environment, please rerun this cell to show the HTML representation or trust the notebook. <br />On GitHub, the HTML representation is unable to render, please try loading this page with nbviewer.org.</b></div><div class=\"sk-container\" hidden><div class=\"sk-item sk-dashed-wrapped\"><div class=\"sk-label-container\"><div class=\"sk-label fitted sk-toggleable\"><input class=\"sk-toggleable__control sk-hidden--visually\" id=\"sk-estimator-id-9\" type=\"checkbox\" ><label for=\"sk-estimator-id-9\" class=\"sk-toggleable__label fitted sk-toggleable__label-arrow fitted\">&nbsp;&nbsp;GridSearchCV<a class=\"sk-estimator-doc-link fitted\" rel=\"noreferrer\" target=\"_blank\" href=\"https://scikit-learn.org/1.4/modules/generated/sklearn.model_selection.GridSearchCV.html\">?<span>Documentation for GridSearchCV</span></a><span class=\"sk-estimator-doc-link fitted\">i<span>Fitted</span></span></label><div class=\"sk-toggleable__content fitted\"><pre>GridSearchCV(cv=5,\n",
       "             estimator=Pipeline(steps=[(&#x27;columntransformer&#x27;,\n",
       "                                        ColumnTransformer(transformers=[(&#x27;cat&#x27;,\n",
       "                                                                         OneHotEncoder(handle_unknown=&#x27;ignore&#x27;),\n",
       "                                                                         [&#x27;Ship &#x27;\n",
       "                                                                          &#x27;Mode&#x27;,\n",
       "                                                                          &#x27;Segment&#x27;,\n",
       "                                                                          &#x27;Country&#x27;,\n",
       "                                                                          &#x27;Market&#x27;,\n",
       "                                                                          &#x27;Region&#x27;,\n",
       "                                                                          &#x27;Category&#x27;,\n",
       "                                                                          &#x27;Sub-Category&#x27;,\n",
       "                                                                          &#x27;Order &#x27;\n",
       "                                                                          &#x27;Priority&#x27;]),\n",
       "                                                                        (&#x27;num&#x27;,\n",
       "                                                                         StandardScaler(),\n",
       "                                                                         [&#x27;Sales&#x27;,\n",
       "                                                                          &#x27;Quantity&#x27;,\n",
       "                                                                          &#x27;Profit&#x27;,\n",
       "                                                                          &#x27;Shipping &#x27;\n",
       "                                                                          &#x27;days&#x27;])])),\n",
       "                                       (&#x27;gradientboostingregressor&#x27;,\n",
       "                                        GradientBoostingRegressor(random_state=42))],\n",
       "                                verbose=True),\n",
       "             param_grid={&#x27;gradientboostingregressor__learning_rate&#x27;: [0.01, 0.1,\n",
       "                                                                      0.2, 1],\n",
       "                         &#x27;gradientboostingregressor__max_depth&#x27;: [3, 5, 8],\n",
       "                         &#x27;gradientboostingregressor__max_features&#x27;: [&#x27;log2&#x27;,\n",
       "                                                                     &#x27;sqrt&#x27;]},\n",
       "             scoring=&#x27;neg_mean_squared_error&#x27;)</pre></div> </div></div><div class=\"sk-parallel\"><div class=\"sk-parallel-item\"><div class=\"sk-item\"><div class=\"sk-label-container\"><div class=\"sk-label fitted sk-toggleable\"><input class=\"sk-toggleable__control sk-hidden--visually\" id=\"sk-estimator-id-10\" type=\"checkbox\" ><label for=\"sk-estimator-id-10\" class=\"sk-toggleable__label fitted sk-toggleable__label-arrow fitted\">estimator: Pipeline</label><div class=\"sk-toggleable__content fitted\"><pre>Pipeline(steps=[(&#x27;columntransformer&#x27;,\n",
       "                 ColumnTransformer(transformers=[(&#x27;cat&#x27;,\n",
       "                                                  OneHotEncoder(handle_unknown=&#x27;ignore&#x27;),\n",
       "                                                  [&#x27;Ship Mode&#x27;, &#x27;Segment&#x27;,\n",
       "                                                   &#x27;Country&#x27;, &#x27;Market&#x27;,\n",
       "                                                   &#x27;Region&#x27;, &#x27;Category&#x27;,\n",
       "                                                   &#x27;Sub-Category&#x27;,\n",
       "                                                   &#x27;Order Priority&#x27;]),\n",
       "                                                 (&#x27;num&#x27;, StandardScaler(),\n",
       "                                                  [&#x27;Sales&#x27;, &#x27;Quantity&#x27;,\n",
       "                                                   &#x27;Profit&#x27;,\n",
       "                                                   &#x27;Shipping days&#x27;])])),\n",
       "                (&#x27;gradientboostingregressor&#x27;,\n",
       "                 GradientBoostingRegressor(random_state=42))],\n",
       "         verbose=True)</pre></div> </div></div><div class=\"sk-serial\"><div class=\"sk-item\"><div class=\"sk-serial\"><div class=\"sk-item sk-dashed-wrapped\"><div class=\"sk-label-container\"><div class=\"sk-label fitted sk-toggleable\"><input class=\"sk-toggleable__control sk-hidden--visually\" id=\"sk-estimator-id-11\" type=\"checkbox\" ><label for=\"sk-estimator-id-11\" class=\"sk-toggleable__label fitted sk-toggleable__label-arrow fitted\">&nbsp;columntransformer: ColumnTransformer<a class=\"sk-estimator-doc-link fitted\" rel=\"noreferrer\" target=\"_blank\" href=\"https://scikit-learn.org/1.4/modules/generated/sklearn.compose.ColumnTransformer.html\">?<span>Documentation for columntransformer: ColumnTransformer</span></a></label><div class=\"sk-toggleable__content fitted\"><pre>ColumnTransformer(transformers=[(&#x27;cat&#x27;, OneHotEncoder(handle_unknown=&#x27;ignore&#x27;),\n",
       "                                 [&#x27;Ship Mode&#x27;, &#x27;Segment&#x27;, &#x27;Country&#x27;, &#x27;Market&#x27;,\n",
       "                                  &#x27;Region&#x27;, &#x27;Category&#x27;, &#x27;Sub-Category&#x27;,\n",
       "                                  &#x27;Order Priority&#x27;]),\n",
       "                                (&#x27;num&#x27;, StandardScaler(),\n",
       "                                 [&#x27;Sales&#x27;, &#x27;Quantity&#x27;, &#x27;Profit&#x27;,\n",
       "                                  &#x27;Shipping days&#x27;])])</pre></div> </div></div><div class=\"sk-parallel\"><div class=\"sk-parallel-item\"><div class=\"sk-item\"><div class=\"sk-label-container\"><div class=\"sk-label fitted sk-toggleable\"><input class=\"sk-toggleable__control sk-hidden--visually\" id=\"sk-estimator-id-12\" type=\"checkbox\" ><label for=\"sk-estimator-id-12\" class=\"sk-toggleable__label fitted sk-toggleable__label-arrow fitted\">cat</label><div class=\"sk-toggleable__content fitted\"><pre>[&#x27;Ship Mode&#x27;, &#x27;Segment&#x27;, &#x27;Country&#x27;, &#x27;Market&#x27;, &#x27;Region&#x27;, &#x27;Category&#x27;, &#x27;Sub-Category&#x27;, &#x27;Order Priority&#x27;]</pre></div> </div></div><div class=\"sk-serial\"><div class=\"sk-item\"><div class=\"sk-estimator fitted sk-toggleable\"><input class=\"sk-toggleable__control sk-hidden--visually\" id=\"sk-estimator-id-13\" type=\"checkbox\" ><label for=\"sk-estimator-id-13\" class=\"sk-toggleable__label fitted sk-toggleable__label-arrow fitted\">&nbsp;OneHotEncoder<a class=\"sk-estimator-doc-link fitted\" rel=\"noreferrer\" target=\"_blank\" href=\"https://scikit-learn.org/1.4/modules/generated/sklearn.preprocessing.OneHotEncoder.html\">?<span>Documentation for OneHotEncoder</span></a></label><div class=\"sk-toggleable__content fitted\"><pre>OneHotEncoder(handle_unknown=&#x27;ignore&#x27;)</pre></div> </div></div></div></div></div><div class=\"sk-parallel-item\"><div class=\"sk-item\"><div class=\"sk-label-container\"><div class=\"sk-label fitted sk-toggleable\"><input class=\"sk-toggleable__control sk-hidden--visually\" id=\"sk-estimator-id-14\" type=\"checkbox\" ><label for=\"sk-estimator-id-14\" class=\"sk-toggleable__label fitted sk-toggleable__label-arrow fitted\">num</label><div class=\"sk-toggleable__content fitted\"><pre>[&#x27;Sales&#x27;, &#x27;Quantity&#x27;, &#x27;Profit&#x27;, &#x27;Shipping days&#x27;]</pre></div> </div></div><div class=\"sk-serial\"><div class=\"sk-item\"><div class=\"sk-estimator fitted sk-toggleable\"><input class=\"sk-toggleable__control sk-hidden--visually\" id=\"sk-estimator-id-15\" type=\"checkbox\" ><label for=\"sk-estimator-id-15\" class=\"sk-toggleable__label fitted sk-toggleable__label-arrow fitted\">&nbsp;StandardScaler<a class=\"sk-estimator-doc-link fitted\" rel=\"noreferrer\" target=\"_blank\" href=\"https://scikit-learn.org/1.4/modules/generated/sklearn.preprocessing.StandardScaler.html\">?<span>Documentation for StandardScaler</span></a></label><div class=\"sk-toggleable__content fitted\"><pre>StandardScaler()</pre></div> </div></div></div></div></div></div></div><div class=\"sk-item\"><div class=\"sk-estimator fitted sk-toggleable\"><input class=\"sk-toggleable__control sk-hidden--visually\" id=\"sk-estimator-id-16\" type=\"checkbox\" ><label for=\"sk-estimator-id-16\" class=\"sk-toggleable__label fitted sk-toggleable__label-arrow fitted\">&nbsp;GradientBoostingRegressor<a class=\"sk-estimator-doc-link fitted\" rel=\"noreferrer\" target=\"_blank\" href=\"https://scikit-learn.org/1.4/modules/generated/sklearn.ensemble.GradientBoostingRegressor.html\">?<span>Documentation for GradientBoostingRegressor</span></a></label><div class=\"sk-toggleable__content fitted\"><pre>GradientBoostingRegressor(random_state=42)</pre></div> </div></div></div></div></div></div></div></div></div></div></div>"
      ],
      "text/plain": [
       "GridSearchCV(cv=5,\n",
       "             estimator=Pipeline(steps=[('columntransformer',\n",
       "                                        ColumnTransformer(transformers=[('cat',\n",
       "                                                                         OneHotEncoder(handle_unknown='ignore'),\n",
       "                                                                         ['Ship '\n",
       "                                                                          'Mode',\n",
       "                                                                          'Segment',\n",
       "                                                                          'Country',\n",
       "                                                                          'Market',\n",
       "                                                                          'Region',\n",
       "                                                                          'Category',\n",
       "                                                                          'Sub-Category',\n",
       "                                                                          'Order '\n",
       "                                                                          'Priority']),\n",
       "                                                                        ('num',\n",
       "                                                                         StandardScaler(),\n",
       "                                                                         ['Sales',\n",
       "                                                                          'Quantity',\n",
       "                                                                          'Profit',\n",
       "                                                                          'Shipping '\n",
       "                                                                          'days'])])),\n",
       "                                       ('gradientboostingregressor',\n",
       "                                        GradientBoostingRegressor(random_state=42))],\n",
       "                                verbose=True),\n",
       "             param_grid={'gradientboostingregressor__learning_rate': [0.01, 0.1,\n",
       "                                                                      0.2, 1],\n",
       "                         'gradientboostingregressor__max_depth': [3, 5, 8],\n",
       "                         'gradientboostingregressor__max_features': ['log2',\n",
       "                                                                     'sqrt']},\n",
       "             scoring='neg_mean_squared_error')"
      ]
     },
     "execution_count": 31,
     "metadata": {},
     "output_type": "execute_result"
    }
   ],
   "source": [
    "gsGB = GridSearchCV(estimator=pipeline1,\n",
    "                    param_grid=param_grid_GB,\n",
    "                    cv=5,\n",
    "                    scoring='neg_mean_squared_error'\n",
    "                )\n",
    "gsGB.fit(X_train, y_train)\n"
   ]
  },
  {
   "cell_type": "markdown",
   "metadata": {},
   "source": [
    "#### Models results"
   ]
  },
  {
   "cell_type": "code",
   "execution_count": 32,
   "metadata": {},
   "outputs": [
    {
     "name": "stdout",
     "output_type": "stream",
     "text": [
      "Pipeline(steps=[('columntransformer',\n",
      "                 ColumnTransformer(transformers=[('cat',\n",
      "                                                  OneHotEncoder(handle_unknown='ignore'),\n",
      "                                                  ['Ship Mode', 'Segment',\n",
      "                                                   'Country', 'Market',\n",
      "                                                   'Region', 'Category',\n",
      "                                                   'Sub-Category',\n",
      "                                                   'Order Priority']),\n",
      "                                                 ('num', StandardScaler(),\n",
      "                                                  ['Sales', 'Quantity',\n",
      "                                                   'Profit',\n",
      "                                                   'Shipping days'])])),\n",
      "                ('gradientboostingregressor',\n",
      "                 GradientBoostingRegressor(learning_rate=0.2,\n",
      "                                           max_features='sqrt',\n",
      "                                           random_state=42))],\n",
      "         verbose=True)\n"
     ]
    }
   ],
   "source": [
    "best_model_GB = gsGB.best_estimator_\n",
    "print(best_model_GB)"
   ]
  },
  {
   "cell_type": "code",
   "execution_count": 33,
   "metadata": {},
   "outputs": [
    {
     "name": "stdout",
     "output_type": "stream",
     "text": [
      "{'gradientboostingregressor__learning_rate': 0.2, 'gradientboostingregressor__max_depth': 3, 'gradientboostingregressor__max_features': 'sqrt'}\n"
     ]
    }
   ],
   "source": [
    "best_params_GB = gsGB.best_params_\n",
    "print(best_params_GB)"
   ]
  },
  {
   "cell_type": "markdown",
   "metadata": {},
   "source": [
    "### Model results with GDCV"
   ]
  },
  {
   "cell_type": "code",
   "execution_count": 34,
   "metadata": {},
   "outputs": [
    {
     "name": "stdout",
     "output_type": "stream",
     "text": [
      "Gradient Boosting Regressor with GSCV Report:\n",
      "MAE :  8.111985983084232\n",
      "MSE :  339.19470156221524\n",
      "R2 :  0.8313864146651004\n",
      "RMSE :  339.19470156221524\n"
     ]
    }
   ],
   "source": [
    "y_pred = best_model_GB.predict(X_test)\n",
    "\n",
    "# Generate Gradient Boosting Regressor report\n",
    "MSE = mean_squared_error(y_test, y_pred) # measurement of the typical absolute discrepancies between a dataset's actual values and projected values.\n",
    "R2 = r2_score(y_test, y_pred) # measures the square root of the average discrepancies between a dataset's actual values and projected values\n",
    "MAE = mean_absolute_error(y_test, y_pred) # A statistical metric frequently used to assess the goodness of fit of a regression model is the R-squared (R2) score,\n",
    "RMSE = mean_squared_error(y_test, y_pred)\n",
    "\n",
    "print(\"Gradient Boosting Regressor with GSCV Report:\")\n",
    "print('MAE : ',MAE)\n",
    "print('MSE : ',MSE)\n",
    "print('R2 : ',R2)\n",
    "print('RMSE : ',RMSE)"
   ]
  },
  {
   "cell_type": "markdown",
   "metadata": {},
   "source": [
    "#### Visualization of the prediction error of a GB model."
   ]
  },
  {
   "cell_type": "code",
   "execution_count": 77,
   "metadata": {},
   "outputs": [
    {
     "data": {
      "image/png": "[encoded data removed]",
      "text/plain": [
       "<Figure size 640x480 with 1 Axes>"
      ]
     },
     "metadata": {},
     "output_type": "display_data"
    }
   ],
   "source": [
    "disp = PredictionErrorDisplay.from_estimator(best_model_GB, X, y)\n",
    "plt.show()"
   ]
  },
  {
   "cell_type": "markdown",
   "metadata": {},
   "source": [
    "# Second Model: Linear Regression Regressor"
   ]
  },
  {
   "cell_type": "markdown",
   "metadata": {},
   "source": [
    "### Pipeline"
   ]
  },
  {
   "cell_type": "code",
   "execution_count": 41,
   "metadata": {},
   "outputs": [],
   "source": [
    "pipeline2 = make_pipeline(preprocessor,\n",
    "                         LinearRegression(),\n",
    "                         verbose=True   \n",
    "                   )"
   ]
  },
  {
   "cell_type": "markdown",
   "metadata": {},
   "source": [
    "### Training"
   ]
  },
  {
   "cell_type": "code",
   "execution_count": 42,
   "metadata": {},
   "outputs": [
    {
     "name": "stdout",
     "output_type": "stream",
     "text": [
      "[Pipeline] . (step 1 of 2) Processing columntransformer, total=   0.0s\n",
      "[Pipeline] .. (step 2 of 2) Processing linearregression, total=   0.0s\n",
      "Linear Regression Report:\n",
      "MAE :  10.097494665800811\n",
      "MSE :  392.86189661931985\n",
      "R2 :  0.8047084679525808\n",
      "RMSE :  392.86189661931985\n"
     ]
    }
   ],
   "source": [
    "pipeline2.fit(X_train, y_train)\n",
    "y_pred = pipeline2.predict(X_test)\n",
    "\n",
    "# Generate Linear Regression report\n",
    "MSE = mean_squared_error(y_test, y_pred) # measurement of the typical absolute discrepancies between a dataset's actual values and projected values.\n",
    "R2 = r2_score(y_test, y_pred) # measures the square root of the average discrepancies between a dataset's actual values and projected values\n",
    "MAE = mean_absolute_error(y_test, y_pred) # A statistical metric frequently used to assess the goodness of fit of a regression model is the R-squared (R2) score,\n",
    "RMSE = mean_squared_error(y_test, y_pred)\n",
    "\n",
    "print(\"Linear Regression Report:\")\n",
    "print('MAE : ',MAE)\n",
    "print('MSE : ',MSE)\n",
    "print('R2 : ',R2)\n",
    "print('RMSE : ',RMSE)"
   ]
  },
  {
   "cell_type": "markdown",
   "metadata": {},
   "source": [
    "#### Visualization of the prediction error of a GB model."
   ]
  },
  {
   "cell_type": "code",
   "execution_count": 78,
   "metadata": {},
   "outputs": [
    {
     "data": {
      "image/png": "[encoded data removed]",
      "text/plain": [
       "<Figure size 640x480 with 1 Axes>"
      ]
     },
     "metadata": {},
     "output_type": "display_data"
    }
   ],
   "source": [
    "disp = PredictionErrorDisplay.from_estimator(pipeline2, X, y)\n",
    "plt.show()"
   ]
  },
  {
   "cell_type": "markdown",
   "metadata": {},
   "source": [
    "### Absence of `hyperparams`:\n",
    "Linear regressor does not have hyper parameters to modify, for that reason it used only by default params only. "
   ]
  },
  {
   "cell_type": "markdown",
   "metadata": {},
   "source": [
    "# Third Model: `KNN regressor`:"
   ]
  },
  {
   "cell_type": "markdown",
   "metadata": {},
   "source": [
    "### Pipeline for model"
   ]
  },
  {
   "cell_type": "code",
   "execution_count": 63,
   "metadata": {},
   "outputs": [],
   "source": [
    "pipeline3 = make_pipeline(preprocessor,\n",
    "                         KNeighborsRegressor(),\n",
    "                         verbose=True   \n",
    "                   )"
   ]
  },
  {
   "cell_type": "markdown",
   "metadata": {},
   "source": [
    "#### Access  parameters of a GBRegressor by default"
   ]
  },
  {
   "cell_type": "code",
   "execution_count": 72,
   "metadata": {},
   "outputs": [
    {
     "name": "stdout",
     "output_type": "stream",
     "text": [
      "\n",
      "Classifier parameters:\n",
      "algorithm: auto\n",
      "leaf_size: 30\n",
      "metric: minkowski\n",
      "metric_params: None\n",
      "n_jobs: None\n",
      "n_neighbors: 5\n",
      "p: 2\n",
      "weights: uniform\n"
     ]
    }
   ],
   "source": [
    "classifier_params = pipeline3['kneighborsregressor'].get_params()\n",
    "print(\"\\nClassifier parameters:\")\n",
    "for param, value in classifier_params.items():\n",
    "    print(f\"{param}: {value}\")\n"
   ]
  },
  {
   "cell_type": "markdown",
   "metadata": {},
   "source": [
    "### Training"
   ]
  },
  {
   "cell_type": "code",
   "execution_count": 64,
   "metadata": {},
   "outputs": [
    {
     "name": "stdout",
     "output_type": "stream",
     "text": [
      "Fit the model\n",
      "[Pipeline] . (step 1 of 2) Processing columntransformer, total=   0.1s\n",
      "[Pipeline]  (step 2 of 2) Processing kneighborsregressor, total=   0.0s\n",
      "KNNeighbors Regression Report:\n",
      "MAE :  8.444514161220045\n",
      "MSE :  401.3906589571533\n",
      "R2 :  0.8004688227292678\n",
      "RMSE :  401.3906589571533\n"
     ]
    }
   ],
   "source": [
    "print('Fit the model')\n",
    "pipeline3.fit(X_train, y_train)\n",
    "y_pred = pipeline3.predict(X_test)\n",
    "\n",
    "# Generate KNN Regression report\n",
    "MSE = mean_squared_error(y_test, y_pred) # measurement of the typical absolute discrepancies between a dataset's actual values and projected values.\n",
    "R2 = r2_score(y_test, y_pred) # measures the square root of the average discrepancies between a dataset's actual values and projected values\n",
    "MAE = mean_absolute_error(y_test, y_pred) # A statistical metric frequently used to assess the goodness of fit of a regression model is the R-squared (R2) score,\n",
    "RMSE = mean_squared_error(y_test, y_pred)\n",
    "\n",
    "print(\"KNNeighbors Regression Report:\")\n",
    "print('MAE : ',MAE)\n",
    "print('MSE : ',MSE)\n",
    "print('R2 : ',R2)\n",
    "print('RMSE : ',RMSE)"
   ]
  },
  {
   "cell_type": "markdown",
   "metadata": {},
   "source": [
    "#### Visualization of the prediction error of a GB model."
   ]
  },
  {
   "cell_type": "code",
   "execution_count": 79,
   "metadata": {},
   "outputs": [
    {
     "data": {
      "image/png": "[encoded data removed]",
      "text/plain": [
       "<Figure size 640x480 with 1 Axes>"
      ]
     },
     "metadata": {},
     "output_type": "display_data"
    }
   ],
   "source": [
    "disp = PredictionErrorDisplay.from_estimator(pipeline3, X, y)\n",
    "plt.show()"
   ]
  },
  {
   "cell_type": "markdown",
   "metadata": {},
   "source": [
    "### Grid search CV"
   ]
  },
  {
   "cell_type": "markdown",
   "metadata": {},
   "source": [
    "### Parameters for GBRsgressor"
   ]
  },
  {
   "cell_type": "code",
   "execution_count": 74,
   "metadata": {},
   "outputs": [],
   "source": [
    "param_grid_KNN = {\n",
    "    'kneighborsregressor__algorithm': ['auto', 'ball_tree', 'kd_tree', 'brute'],\n",
    "    'kneighborsregressor__leaf_size': [20,30,40,50],\n",
    "    'kneighborsregressor__n_neighbors': [1,10, 1],\n",
    "    'kneighborsregressor__p': [1,2],\n",
    "    'kneighborsregressor__weights': ['uniform', 'distance'],\n",
    "    'kneighborsregressor__metric': ['minkowski', 'chebyshev']\n",
    "}"
   ]
  },
  {
   "cell_type": "code",
   "execution_count": 75,
   "metadata": {},
   "outputs": [
    {
     "name": "stdout",
     "output_type": "stream",
     "text": [
      "[Pipeline] . (step 1 of 2) Processing columntransformer, total=   0.1s\n",
      "[Pipeline]  (step 2 of 2) Processing kneighborsregressor, total=   0.0s\n",
      "[Pipeline] . (step 1 of 2) Processing columntransformer, total=   0.0s\n",
      "[Pipeline]  (step 2 of 2) Processing kneighborsregressor, total=   0.0s\n",
      "[Pipeline] . (step 1 of 2) Processing columntransformer, total=   0.0s\n",
      "[Pipeline]  (step 2 of 2) Processing kneighborsregressor, total=   0.0s\n",
      "[Pipeline] . (step 1 of 2) Processing columntransformer, total=   0.0s\n",
      "[Pipeline]  (step 2 of 2) Processing kneighborsregressor, total=   0.0s\n",
      "[Pipeline] . (step 1 of 2) Processing columntransformer, total=   0.1s\n",
      "[Pipeline]  (step 2 of 2) Processing kneighborsregressor, total=   0.0s\n",
      "[Pipeline] . (step 1 of 2) Processing columntransformer, total=   0.0s\n",
      "[Pipeline]  (step 2 of 2) Processing kneighborsregressor, total=   0.0s\n",
      "[Pipeline] . (step 1 of 2) Processing columntransformer, total=   0.0s\n",
      "[Pipeline]  (step 2 of 2) Processing kneighborsregressor, total=   0.0s\n",
      "[Pipeline] . (step 1 of 2) Processing columntransformer, total=   0.0s\n",
      "[Pipeline]  (step 2 of 2) Processing kneighborsregressor, total=   0.0s\n",
      "[Pipeline] . (step 1 of 2) Processing columntransformer, total=   0.0s\n",
      "[Pipeline]  (step 2 of 2) Processing kneighborsregressor, total=   0.0s\n",
      "[Pipeline] . (step 1 of 2) Processing columntransformer, total=   0.1s\n",
      "[Pipeline]  (step 2 of 2) Processing kneighborsregressor, total=   0.0s\n",
      "[Pipeline] . (step 1 of 2) Processing columntransformer, total=   0.0s\n",
      "[Pipeline]  (step 2 of 2) Processing kneighborsregressor, total=   0.0s\n",
      "[Pipeline] . (step 1 of 2) Processing columntransformer, total=   0.0s\n",
      "[Pipeline]  (step 2 of 2) Processing kneighborsregressor, total=   0.0s\n",
      "[Pipeline] . (step 1 of 2) Processing columntransformer, total=   0.0s\n",
      "[Pipeline]  (step 2 of 2) Processing kneighborsregressor, total=   0.0s\n",
      "[Pipeline] . (step 1 of 2) Processing columntransformer, total=   0.0s\n",
      "[Pipeline]  (step 2 of 2) Processing kneighborsregressor, total=   0.0s\n",
      "[Pipeline] . (step 1 of 2) Processing columntransformer, total=   0.0s\n",
      "[Pipeline]  (step 2 of 2) Processing kneighborsregressor, total=   0.0s\n",
      "[Pipeline] . (step 1 of 2) Processing columntransformer, total=   0.0s\n",
      "[Pipeline]  (step 2 of 2) Processing kneighborsregressor, total=   0.0s\n",
      "[Pipeline] . (step 1 of 2) Processing columntransformer, total=   0.0s\n",
      "[Pipeline]  (step 2 of 2) Processing kneighborsregressor, total=   0.0s\n",
      "[Pipeline] . (step 1 of 2) Processing columntransformer, total=   0.0s\n",
      "[Pipeline]  (step 2 of 2) Processing kneighborsregressor, total=   0.0s\n",
      "[Pipeline] . (step 1 of 2) Processing columntransformer, total=   0.0s\n",
      "[Pipeline]  (step 2 of 2) Processing kneighborsregressor, total=   0.0s\n",
      "[Pipeline] . (step 1 of 2) Processing columntransformer, total=   0.0s\n",
      "[Pipeline]  (step 2 of 2) Processing kneighborsregressor, total=   0.0s\n",
      "[Pipeline] . (step 1 of 2) Processing columntransformer, total=   0.0s\n",
      "[Pipeline]  (step 2 of 2) Processing kneighborsregressor, total=   0.0s\n",
      "[Pipeline] . (step 1 of 2) Processing columntransformer, total=   0.0s\n",
      "[Pipeline]  (step 2 of 2) Processing kneighborsregressor, total=   0.0s\n",
      "[Pipeline] . (step 1 of 2) Processing columntransformer, total=   0.0s\n",
      "[Pipeline]  (step 2 of 2) Processing kneighborsregressor, total=   0.0s\n",
      "[Pipeline] . (step 1 of 2) Processing columntransformer, total=   0.0s\n",
      "[Pipeline]  (step 2 of 2) Processing kneighborsregressor, total=   0.0s\n",
      "[Pipeline] . (step 1 of 2) Processing columntransformer, total=   0.0s\n",
      "[Pipeline]  (step 2 of 2) Processing kneighborsregressor, total=   0.0s\n",
      "[Pipeline] . (step 1 of 2) Processing columntransformer, total=   0.0s\n",
      "[Pipeline]  (step 2 of 2) Processing kneighborsregressor, total=   0.0s\n",
      "[Pipeline] . (step 1 of 2) Processing columntransformer, total=   0.0s\n",
      "[Pipeline]  (step 2 of 2) Processing kneighborsregressor, total=   0.0s\n",
      "[Pipeline] . (step 1 of 2) Processing columntransformer, total=   0.0s\n",
      "[Pipeline]  (step 2 of 2) Processing kneighborsregressor, total=   0.0s\n",
      "[Pipeline] . (step 1 of 2) Processing columntransformer, total=   0.0s\n",
      "[Pipeline]  (step 2 of 2) Processing kneighborsregressor, total=   0.0s\n",
      "[Pipeline] . (step 1 of 2) Processing columntransformer, total=   0.0s\n",
      "[Pipeline]  (step 2 of 2) Processing kneighborsregressor, total=   0.0s\n",
      "[Pipeline] . (step 1 of 2) Processing columntransformer, total=   0.0s\n",
      "[Pipeline]  (step 2 of 2) Processing kneighborsregressor, total=   0.0s\n",
      "[Pipeline] . (step 1 of 2) Processing columntransformer, total=   0.0s\n",
      "[Pipeline]  (step 2 of 2) Processing kneighborsregressor, total=   0.0s\n",
      "[Pipeline] . (step 1 of 2) Processing columntransformer, total=   0.0s\n",
      "[Pipeline]  (step 2 of 2) Processing kneighborsregressor, total=   0.0s\n",
      "[Pipeline] . (step 1 of 2) Processing columntransformer, total=   0.0s\n",
      "[Pipeline]  (step 2 of 2) Processing kneighborsregressor, total=   0.0s\n"
     ]
    },
    {
     "ename": "KeyboardInterrupt",
     "evalue": "",
     "output_type": "error",
     "traceback": [
      "\u001b[0;31m---------------------------------------------------------------------------\u001b[0m",
      "\u001b[0;31mKeyboardInterrupt\u001b[0m                         Traceback (most recent call last)",
      "Cell \u001b[0;32mIn[75], line 6\u001b[0m\n\u001b[1;32m      1\u001b[0m gs_KNN \u001b[38;5;241m=\u001b[39m GridSearchCV(estimator\u001b[38;5;241m=\u001b[39mpipeline3,\n\u001b[1;32m      2\u001b[0m                     param_grid\u001b[38;5;241m=\u001b[39mparam_grid_KNN,\n\u001b[1;32m      3\u001b[0m                     cv\u001b[38;5;241m=\u001b[39m\u001b[38;5;241m5\u001b[39m,\n\u001b[1;32m      4\u001b[0m                     scoring\u001b[38;5;241m=\u001b[39m\u001b[38;5;124m'\u001b[39m\u001b[38;5;124mneg_mean_squared_error\u001b[39m\u001b[38;5;124m'\u001b[39m\n\u001b[1;32m      5\u001b[0m                 )\n\u001b[0;32m----> 6\u001b[0m \u001b[43mgs_KNN\u001b[49m\u001b[38;5;241;43m.\u001b[39;49m\u001b[43mfit\u001b[49m\u001b[43m(\u001b[49m\u001b[43mX_train\u001b[49m\u001b[43m,\u001b[49m\u001b[43m \u001b[49m\u001b[43my_train\u001b[49m\u001b[43m)\u001b[49m\n",
      "File \u001b[0;32m/usr/lib/python3/dist-packages/sklearn/base.py:1474\u001b[0m, in \u001b[0;36m_fit_context.<locals>.decorator.<locals>.wrapper\u001b[0;34m(estimator, *args, **kwargs)\u001b[0m\n\u001b[1;32m   1467\u001b[0m     estimator\u001b[38;5;241m.\u001b[39m_validate_params()\n\u001b[1;32m   1469\u001b[0m \u001b[38;5;28;01mwith\u001b[39;00m config_context(\n\u001b[1;32m   1470\u001b[0m     skip_parameter_validation\u001b[38;5;241m=\u001b[39m(\n\u001b[1;32m   1471\u001b[0m         prefer_skip_nested_validation \u001b[38;5;129;01mor\u001b[39;00m global_skip_validation\n\u001b[1;32m   1472\u001b[0m     )\n\u001b[1;32m   1473\u001b[0m ):\n\u001b[0;32m-> 1474\u001b[0m     \u001b[38;5;28;01mreturn\u001b[39;00m \u001b[43mfit_method\u001b[49m\u001b[43m(\u001b[49m\u001b[43mestimator\u001b[49m\u001b[43m,\u001b[49m\u001b[43m \u001b[49m\u001b[38;5;241;43m*\u001b[39;49m\u001b[43margs\u001b[49m\u001b[43m,\u001b[49m\u001b[43m \u001b[49m\u001b[38;5;241;43m*\u001b[39;49m\u001b[38;5;241;43m*\u001b[39;49m\u001b[43mkwargs\u001b[49m\u001b[43m)\u001b[49m\n",
      "File \u001b[0;32m/usr/lib/python3/dist-packages/sklearn/model_selection/_search.py:970\u001b[0m, in \u001b[0;36mBaseSearchCV.fit\u001b[0;34m(self, X, y, **params)\u001b[0m\n\u001b[1;32m    964\u001b[0m     results \u001b[38;5;241m=\u001b[39m \u001b[38;5;28mself\u001b[39m\u001b[38;5;241m.\u001b[39m_format_results(\n\u001b[1;32m    965\u001b[0m         all_candidate_params, n_splits, all_out, all_more_results\n\u001b[1;32m    966\u001b[0m     )\n\u001b[1;32m    968\u001b[0m     \u001b[38;5;28;01mreturn\u001b[39;00m results\n\u001b[0;32m--> 970\u001b[0m \u001b[38;5;28;43mself\u001b[39;49m\u001b[38;5;241;43m.\u001b[39;49m\u001b[43m_run_search\u001b[49m\u001b[43m(\u001b[49m\u001b[43mevaluate_candidates\u001b[49m\u001b[43m)\u001b[49m\n\u001b[1;32m    972\u001b[0m \u001b[38;5;66;03m# multimetric is determined here because in the case of a callable\u001b[39;00m\n\u001b[1;32m    973\u001b[0m \u001b[38;5;66;03m# self.scoring the return type is only known after calling\u001b[39;00m\n\u001b[1;32m    974\u001b[0m first_test_score \u001b[38;5;241m=\u001b[39m all_out[\u001b[38;5;241m0\u001b[39m][\u001b[38;5;124m\"\u001b[39m\u001b[38;5;124mtest_scores\u001b[39m\u001b[38;5;124m\"\u001b[39m]\n",
      "File \u001b[0;32m/usr/lib/python3/dist-packages/sklearn/model_selection/_search.py:1527\u001b[0m, in \u001b[0;36mGridSearchCV._run_search\u001b[0;34m(self, evaluate_candidates)\u001b[0m\n\u001b[1;32m   1525\u001b[0m \u001b[38;5;28;01mdef\u001b[39;00m \u001b[38;5;21m_run_search\u001b[39m(\u001b[38;5;28mself\u001b[39m, evaluate_candidates):\n\u001b[1;32m   1526\u001b[0m \u001b[38;5;250m    \u001b[39m\u001b[38;5;124;03m\"\"\"Search all candidates in param_grid\"\"\"\u001b[39;00m\n\u001b[0;32m-> 1527\u001b[0m     \u001b[43mevaluate_candidates\u001b[49m\u001b[43m(\u001b[49m\u001b[43mParameterGrid\u001b[49m\u001b[43m(\u001b[49m\u001b[38;5;28;43mself\u001b[39;49m\u001b[38;5;241;43m.\u001b[39;49m\u001b[43mparam_grid\u001b[49m\u001b[43m)\u001b[49m\u001b[43m)\u001b[49m\n",
      "File \u001b[0;32m/usr/lib/python3/dist-packages/sklearn/model_selection/_search.py:916\u001b[0m, in \u001b[0;36mBaseSearchCV.fit.<locals>.evaluate_candidates\u001b[0;34m(candidate_params, cv, more_results)\u001b[0m\n\u001b[1;32m    908\u001b[0m \u001b[38;5;28;01mif\u001b[39;00m \u001b[38;5;28mself\u001b[39m\u001b[38;5;241m.\u001b[39mverbose \u001b[38;5;241m>\u001b[39m \u001b[38;5;241m0\u001b[39m:\n\u001b[1;32m    909\u001b[0m     \u001b[38;5;28mprint\u001b[39m(\n\u001b[1;32m    910\u001b[0m         \u001b[38;5;124m\"\u001b[39m\u001b[38;5;124mFitting \u001b[39m\u001b[38;5;132;01m{0}\u001b[39;00m\u001b[38;5;124m folds for each of \u001b[39m\u001b[38;5;132;01m{1}\u001b[39;00m\u001b[38;5;124m candidates,\u001b[39m\u001b[38;5;124m\"\u001b[39m\n\u001b[1;32m    911\u001b[0m         \u001b[38;5;124m\"\u001b[39m\u001b[38;5;124m totalling \u001b[39m\u001b[38;5;132;01m{2}\u001b[39;00m\u001b[38;5;124m fits\u001b[39m\u001b[38;5;124m\"\u001b[39m\u001b[38;5;241m.\u001b[39mformat(\n\u001b[1;32m    912\u001b[0m             n_splits, n_candidates, n_candidates \u001b[38;5;241m*\u001b[39m n_splits\n\u001b[1;32m    913\u001b[0m         )\n\u001b[1;32m    914\u001b[0m     )\n\u001b[0;32m--> 916\u001b[0m out \u001b[38;5;241m=\u001b[39m \u001b[43mparallel\u001b[49m\u001b[43m(\u001b[49m\n\u001b[1;32m    917\u001b[0m \u001b[43m    \u001b[49m\u001b[43mdelayed\u001b[49m\u001b[43m(\u001b[49m\u001b[43m_fit_and_score\u001b[49m\u001b[43m)\u001b[49m\u001b[43m(\u001b[49m\n\u001b[1;32m    918\u001b[0m \u001b[43m        \u001b[49m\u001b[43mclone\u001b[49m\u001b[43m(\u001b[49m\u001b[43mbase_estimator\u001b[49m\u001b[43m)\u001b[49m\u001b[43m,\u001b[49m\n\u001b[1;32m    919\u001b[0m \u001b[43m        \u001b[49m\u001b[43mX\u001b[49m\u001b[43m,\u001b[49m\n\u001b[1;32m    920\u001b[0m \u001b[43m        \u001b[49m\u001b[43my\u001b[49m\u001b[43m,\u001b[49m\n\u001b[1;32m    921\u001b[0m \u001b[43m        \u001b[49m\u001b[43mtrain\u001b[49m\u001b[38;5;241;43m=\u001b[39;49m\u001b[43mtrain\u001b[49m\u001b[43m,\u001b[49m\n\u001b[1;32m    922\u001b[0m \u001b[43m        \u001b[49m\u001b[43mtest\u001b[49m\u001b[38;5;241;43m=\u001b[39;49m\u001b[43mtest\u001b[49m\u001b[43m,\u001b[49m\n\u001b[1;32m    923\u001b[0m \u001b[43m        \u001b[49m\u001b[43mparameters\u001b[49m\u001b[38;5;241;43m=\u001b[39;49m\u001b[43mparameters\u001b[49m\u001b[43m,\u001b[49m\n\u001b[1;32m    924\u001b[0m \u001b[43m        \u001b[49m\u001b[43msplit_progress\u001b[49m\u001b[38;5;241;43m=\u001b[39;49m\u001b[43m(\u001b[49m\u001b[43msplit_idx\u001b[49m\u001b[43m,\u001b[49m\u001b[43m \u001b[49m\u001b[43mn_splits\u001b[49m\u001b[43m)\u001b[49m\u001b[43m,\u001b[49m\n\u001b[1;32m    925\u001b[0m \u001b[43m        \u001b[49m\u001b[43mcandidate_progress\u001b[49m\u001b[38;5;241;43m=\u001b[39;49m\u001b[43m(\u001b[49m\u001b[43mcand_idx\u001b[49m\u001b[43m,\u001b[49m\u001b[43m \u001b[49m\u001b[43mn_candidates\u001b[49m\u001b[43m)\u001b[49m\u001b[43m,\u001b[49m\n\u001b[1;32m    926\u001b[0m \u001b[43m        \u001b[49m\u001b[38;5;241;43m*\u001b[39;49m\u001b[38;5;241;43m*\u001b[39;49m\u001b[43mfit_and_score_kwargs\u001b[49m\u001b[43m,\u001b[49m\n\u001b[1;32m    927\u001b[0m \u001b[43m    \u001b[49m\u001b[43m)\u001b[49m\n\u001b[1;32m    928\u001b[0m \u001b[43m    \u001b[49m\u001b[38;5;28;43;01mfor\u001b[39;49;00m\u001b[43m \u001b[49m\u001b[43m(\u001b[49m\u001b[43mcand_idx\u001b[49m\u001b[43m,\u001b[49m\u001b[43m \u001b[49m\u001b[43mparameters\u001b[49m\u001b[43m)\u001b[49m\u001b[43m,\u001b[49m\u001b[43m \u001b[49m\u001b[43m(\u001b[49m\u001b[43msplit_idx\u001b[49m\u001b[43m,\u001b[49m\u001b[43m \u001b[49m\u001b[43m(\u001b[49m\u001b[43mtrain\u001b[49m\u001b[43m,\u001b[49m\u001b[43m \u001b[49m\u001b[43mtest\u001b[49m\u001b[43m)\u001b[49m\u001b[43m)\u001b[49m\u001b[43m \u001b[49m\u001b[38;5;129;43;01min\u001b[39;49;00m\u001b[43m \u001b[49m\u001b[43mproduct\u001b[49m\u001b[43m(\u001b[49m\n\u001b[1;32m    929\u001b[0m \u001b[43m        \u001b[49m\u001b[38;5;28;43menumerate\u001b[39;49m\u001b[43m(\u001b[49m\u001b[43mcandidate_params\u001b[49m\u001b[43m)\u001b[49m\u001b[43m,\u001b[49m\n\u001b[1;32m    930\u001b[0m \u001b[43m        \u001b[49m\u001b[38;5;28;43menumerate\u001b[39;49m\u001b[43m(\u001b[49m\u001b[43mcv\u001b[49m\u001b[38;5;241;43m.\u001b[39;49m\u001b[43msplit\u001b[49m\u001b[43m(\u001b[49m\u001b[43mX\u001b[49m\u001b[43m,\u001b[49m\u001b[43m \u001b[49m\u001b[43my\u001b[49m\u001b[43m,\u001b[49m\u001b[43m \u001b[49m\u001b[38;5;241;43m*\u001b[39;49m\u001b[38;5;241;43m*\u001b[39;49m\u001b[43mrouted_params\u001b[49m\u001b[38;5;241;43m.\u001b[39;49m\u001b[43msplitter\u001b[49m\u001b[38;5;241;43m.\u001b[39;49m\u001b[43msplit\u001b[49m\u001b[43m)\u001b[49m\u001b[43m)\u001b[49m\u001b[43m,\u001b[49m\n\u001b[1;32m    931\u001b[0m \u001b[43m    \u001b[49m\u001b[43m)\u001b[49m\n\u001b[1;32m    932\u001b[0m \u001b[43m\u001b[49m\u001b[43m)\u001b[49m\n\u001b[1;32m    934\u001b[0m \u001b[38;5;28;01mif\u001b[39;00m \u001b[38;5;28mlen\u001b[39m(out) \u001b[38;5;241m<\u001b[39m \u001b[38;5;241m1\u001b[39m:\n\u001b[1;32m    935\u001b[0m     \u001b[38;5;28;01mraise\u001b[39;00m \u001b[38;5;167;01mValueError\u001b[39;00m(\n\u001b[1;32m    936\u001b[0m         \u001b[38;5;124m\"\u001b[39m\u001b[38;5;124mNo fits were performed. \u001b[39m\u001b[38;5;124m\"\u001b[39m\n\u001b[1;32m    937\u001b[0m         \u001b[38;5;124m\"\u001b[39m\u001b[38;5;124mWas the CV iterator empty? \u001b[39m\u001b[38;5;124m\"\u001b[39m\n\u001b[1;32m    938\u001b[0m         \u001b[38;5;124m\"\u001b[39m\u001b[38;5;124mWere there no candidates?\u001b[39m\u001b[38;5;124m\"\u001b[39m\n\u001b[1;32m    939\u001b[0m     )\n",
      "File \u001b[0;32m/usr/lib/python3/dist-packages/sklearn/utils/parallel.py:67\u001b[0m, in \u001b[0;36mParallel.__call__\u001b[0;34m(self, iterable)\u001b[0m\n\u001b[1;32m     62\u001b[0m config \u001b[38;5;241m=\u001b[39m get_config()\n\u001b[1;32m     63\u001b[0m iterable_with_config \u001b[38;5;241m=\u001b[39m (\n\u001b[1;32m     64\u001b[0m     (_with_config(delayed_func, config), args, kwargs)\n\u001b[1;32m     65\u001b[0m     \u001b[38;5;28;01mfor\u001b[39;00m delayed_func, args, kwargs \u001b[38;5;129;01min\u001b[39;00m iterable\n\u001b[1;32m     66\u001b[0m )\n\u001b[0;32m---> 67\u001b[0m \u001b[38;5;28;01mreturn\u001b[39;00m \u001b[38;5;28;43msuper\u001b[39;49m\u001b[43m(\u001b[49m\u001b[43m)\u001b[49m\u001b[38;5;241;43m.\u001b[39;49m\u001b[38;5;21;43m__call__\u001b[39;49m\u001b[43m(\u001b[49m\u001b[43miterable_with_config\u001b[49m\u001b[43m)\u001b[49m\n",
      "File \u001b[0;32m/usr/lib/python3/dist-packages/joblib/parallel.py:1863\u001b[0m, in \u001b[0;36mParallel.__call__\u001b[0;34m(self, iterable)\u001b[0m\n\u001b[1;32m   1861\u001b[0m     output \u001b[38;5;241m=\u001b[39m \u001b[38;5;28mself\u001b[39m\u001b[38;5;241m.\u001b[39m_get_sequential_output(iterable)\n\u001b[1;32m   1862\u001b[0m     \u001b[38;5;28mnext\u001b[39m(output)\n\u001b[0;32m-> 1863\u001b[0m     \u001b[38;5;28;01mreturn\u001b[39;00m output \u001b[38;5;28;01mif\u001b[39;00m \u001b[38;5;28mself\u001b[39m\u001b[38;5;241m.\u001b[39mreturn_generator \u001b[38;5;28;01melse\u001b[39;00m \u001b[38;5;28;43mlist\u001b[39;49m\u001b[43m(\u001b[49m\u001b[43moutput\u001b[49m\u001b[43m)\u001b[49m\n\u001b[1;32m   1865\u001b[0m \u001b[38;5;66;03m# Let's create an ID that uniquely identifies the current call. If the\u001b[39;00m\n\u001b[1;32m   1866\u001b[0m \u001b[38;5;66;03m# call is interrupted early and that the same instance is immediately\u001b[39;00m\n\u001b[1;32m   1867\u001b[0m \u001b[38;5;66;03m# re-used, this id will be used to prevent workers that were\u001b[39;00m\n\u001b[1;32m   1868\u001b[0m \u001b[38;5;66;03m# concurrently finalizing a task from the previous call to run the\u001b[39;00m\n\u001b[1;32m   1869\u001b[0m \u001b[38;5;66;03m# callback.\u001b[39;00m\n\u001b[1;32m   1870\u001b[0m \u001b[38;5;28;01mwith\u001b[39;00m \u001b[38;5;28mself\u001b[39m\u001b[38;5;241m.\u001b[39m_lock:\n",
      "File \u001b[0;32m/usr/lib/python3/dist-packages/joblib/parallel.py:1792\u001b[0m, in \u001b[0;36mParallel._get_sequential_output\u001b[0;34m(self, iterable)\u001b[0m\n\u001b[1;32m   1790\u001b[0m \u001b[38;5;28mself\u001b[39m\u001b[38;5;241m.\u001b[39mn_dispatched_batches \u001b[38;5;241m+\u001b[39m\u001b[38;5;241m=\u001b[39m \u001b[38;5;241m1\u001b[39m\n\u001b[1;32m   1791\u001b[0m \u001b[38;5;28mself\u001b[39m\u001b[38;5;241m.\u001b[39mn_dispatched_tasks \u001b[38;5;241m+\u001b[39m\u001b[38;5;241m=\u001b[39m \u001b[38;5;241m1\u001b[39m\n\u001b[0;32m-> 1792\u001b[0m res \u001b[38;5;241m=\u001b[39m \u001b[43mfunc\u001b[49m\u001b[43m(\u001b[49m\u001b[38;5;241;43m*\u001b[39;49m\u001b[43margs\u001b[49m\u001b[43m,\u001b[49m\u001b[43m \u001b[49m\u001b[38;5;241;43m*\u001b[39;49m\u001b[38;5;241;43m*\u001b[39;49m\u001b[43mkwargs\u001b[49m\u001b[43m)\u001b[49m\n\u001b[1;32m   1793\u001b[0m \u001b[38;5;28mself\u001b[39m\u001b[38;5;241m.\u001b[39mn_completed_tasks \u001b[38;5;241m+\u001b[39m\u001b[38;5;241m=\u001b[39m \u001b[38;5;241m1\u001b[39m\n\u001b[1;32m   1794\u001b[0m \u001b[38;5;28mself\u001b[39m\u001b[38;5;241m.\u001b[39mprint_progress()\n",
      "File \u001b[0;32m/usr/lib/python3/dist-packages/sklearn/utils/parallel.py:129\u001b[0m, in \u001b[0;36m_FuncWrapper.__call__\u001b[0;34m(self, *args, **kwargs)\u001b[0m\n\u001b[1;32m    127\u001b[0m     config \u001b[38;5;241m=\u001b[39m {}\n\u001b[1;32m    128\u001b[0m \u001b[38;5;28;01mwith\u001b[39;00m config_context(\u001b[38;5;241m*\u001b[39m\u001b[38;5;241m*\u001b[39mconfig):\n\u001b[0;32m--> 129\u001b[0m     \u001b[38;5;28;01mreturn\u001b[39;00m \u001b[38;5;28;43mself\u001b[39;49m\u001b[38;5;241;43m.\u001b[39;49m\u001b[43mfunction\u001b[49m\u001b[43m(\u001b[49m\u001b[38;5;241;43m*\u001b[39;49m\u001b[43margs\u001b[49m\u001b[43m,\u001b[49m\u001b[43m \u001b[49m\u001b[38;5;241;43m*\u001b[39;49m\u001b[38;5;241;43m*\u001b[39;49m\u001b[43mkwargs\u001b[49m\u001b[43m)\u001b[49m\n",
      "File \u001b[0;32m/usr/lib/python3/dist-packages/sklearn/model_selection/_validation.py:917\u001b[0m, in \u001b[0;36m_fit_and_score\u001b[0;34m(estimator, X, y, scorer, train, test, verbose, parameters, fit_params, score_params, return_train_score, return_parameters, return_n_test_samples, return_times, return_estimator, split_progress, candidate_progress, error_score)\u001b[0m\n\u001b[1;32m    914\u001b[0m result[\u001b[38;5;124m\"\u001b[39m\u001b[38;5;124mfit_error\u001b[39m\u001b[38;5;124m\"\u001b[39m] \u001b[38;5;241m=\u001b[39m \u001b[38;5;28;01mNone\u001b[39;00m\n\u001b[1;32m    916\u001b[0m fit_time \u001b[38;5;241m=\u001b[39m time\u001b[38;5;241m.\u001b[39mtime() \u001b[38;5;241m-\u001b[39m start_time\n\u001b[0;32m--> 917\u001b[0m test_scores \u001b[38;5;241m=\u001b[39m \u001b[43m_score\u001b[49m\u001b[43m(\u001b[49m\n\u001b[1;32m    918\u001b[0m \u001b[43m    \u001b[49m\u001b[43mestimator\u001b[49m\u001b[43m,\u001b[49m\u001b[43m \u001b[49m\u001b[43mX_test\u001b[49m\u001b[43m,\u001b[49m\u001b[43m \u001b[49m\u001b[43my_test\u001b[49m\u001b[43m,\u001b[49m\u001b[43m \u001b[49m\u001b[43mscorer\u001b[49m\u001b[43m,\u001b[49m\u001b[43m \u001b[49m\u001b[43mscore_params_test\u001b[49m\u001b[43m,\u001b[49m\u001b[43m \u001b[49m\u001b[43merror_score\u001b[49m\n\u001b[1;32m    919\u001b[0m \u001b[43m\u001b[49m\u001b[43m)\u001b[49m\n\u001b[1;32m    920\u001b[0m score_time \u001b[38;5;241m=\u001b[39m time\u001b[38;5;241m.\u001b[39mtime() \u001b[38;5;241m-\u001b[39m start_time \u001b[38;5;241m-\u001b[39m fit_time\n\u001b[1;32m    921\u001b[0m \u001b[38;5;28;01mif\u001b[39;00m return_train_score:\n",
      "File \u001b[0;32m/usr/lib/python3/dist-packages/sklearn/model_selection/_validation.py:982\u001b[0m, in \u001b[0;36m_score\u001b[0;34m(estimator, X_test, y_test, scorer, score_params, error_score)\u001b[0m\n\u001b[1;32m    980\u001b[0m         scores \u001b[38;5;241m=\u001b[39m scorer(estimator, X_test, \u001b[38;5;241m*\u001b[39m\u001b[38;5;241m*\u001b[39mscore_params)\n\u001b[1;32m    981\u001b[0m     \u001b[38;5;28;01melse\u001b[39;00m:\n\u001b[0;32m--> 982\u001b[0m         scores \u001b[38;5;241m=\u001b[39m \u001b[43mscorer\u001b[49m\u001b[43m(\u001b[49m\u001b[43mestimator\u001b[49m\u001b[43m,\u001b[49m\u001b[43m \u001b[49m\u001b[43mX_test\u001b[49m\u001b[43m,\u001b[49m\u001b[43m \u001b[49m\u001b[43my_test\u001b[49m\u001b[43m,\u001b[49m\u001b[43m \u001b[49m\u001b[38;5;241;43m*\u001b[39;49m\u001b[38;5;241;43m*\u001b[39;49m\u001b[43mscore_params\u001b[49m\u001b[43m)\u001b[49m\n\u001b[1;32m    983\u001b[0m \u001b[38;5;28;01mexcept\u001b[39;00m \u001b[38;5;167;01mException\u001b[39;00m:\n\u001b[1;32m    984\u001b[0m     \u001b[38;5;28;01mif\u001b[39;00m \u001b[38;5;28misinstance\u001b[39m(scorer, _MultimetricScorer):\n\u001b[1;32m    985\u001b[0m         \u001b[38;5;66;03m# If `_MultimetricScorer` raises exception, the `error_score`\u001b[39;00m\n\u001b[1;32m    986\u001b[0m         \u001b[38;5;66;03m# parameter is equal to \"raise\".\u001b[39;00m\n",
      "File \u001b[0;32m/usr/lib/python3/dist-packages/sklearn/metrics/_scorer.py:253\u001b[0m, in \u001b[0;36m_BaseScorer.__call__\u001b[0;34m(self, estimator, X, y_true, sample_weight, **kwargs)\u001b[0m\n\u001b[1;32m    250\u001b[0m \u001b[38;5;28;01mif\u001b[39;00m sample_weight \u001b[38;5;129;01mis\u001b[39;00m \u001b[38;5;129;01mnot\u001b[39;00m \u001b[38;5;28;01mNone\u001b[39;00m:\n\u001b[1;32m    251\u001b[0m     _kwargs[\u001b[38;5;124m\"\u001b[39m\u001b[38;5;124msample_weight\u001b[39m\u001b[38;5;124m\"\u001b[39m] \u001b[38;5;241m=\u001b[39m sample_weight\n\u001b[0;32m--> 253\u001b[0m \u001b[38;5;28;01mreturn\u001b[39;00m \u001b[38;5;28;43mself\u001b[39;49m\u001b[38;5;241;43m.\u001b[39;49m\u001b[43m_score\u001b[49m\u001b[43m(\u001b[49m\u001b[43mpartial\u001b[49m\u001b[43m(\u001b[49m\u001b[43m_cached_call\u001b[49m\u001b[43m,\u001b[49m\u001b[43m \u001b[49m\u001b[38;5;28;43;01mNone\u001b[39;49;00m\u001b[43m)\u001b[49m\u001b[43m,\u001b[49m\u001b[43m \u001b[49m\u001b[43mestimator\u001b[49m\u001b[43m,\u001b[49m\u001b[43m \u001b[49m\u001b[43mX\u001b[49m\u001b[43m,\u001b[49m\u001b[43m \u001b[49m\u001b[43my_true\u001b[49m\u001b[43m,\u001b[49m\u001b[43m \u001b[49m\u001b[38;5;241;43m*\u001b[39;49m\u001b[38;5;241;43m*\u001b[39;49m\u001b[43m_kwargs\u001b[49m\u001b[43m)\u001b[49m\n",
      "File \u001b[0;32m/usr/lib/python3/dist-packages/sklearn/metrics/_scorer.py:345\u001b[0m, in \u001b[0;36m_Scorer._score\u001b[0;34m(self, method_caller, estimator, X, y_true, **kwargs)\u001b[0m\n\u001b[1;32m    343\u001b[0m pos_label \u001b[38;5;241m=\u001b[39m \u001b[38;5;28;01mNone\u001b[39;00m \u001b[38;5;28;01mif\u001b[39;00m is_regressor(estimator) \u001b[38;5;28;01melse\u001b[39;00m \u001b[38;5;28mself\u001b[39m\u001b[38;5;241m.\u001b[39m_get_pos_label()\n\u001b[1;32m    344\u001b[0m response_method \u001b[38;5;241m=\u001b[39m _check_response_method(estimator, \u001b[38;5;28mself\u001b[39m\u001b[38;5;241m.\u001b[39m_response_method)\n\u001b[0;32m--> 345\u001b[0m y_pred \u001b[38;5;241m=\u001b[39m \u001b[43mmethod_caller\u001b[49m\u001b[43m(\u001b[49m\n\u001b[1;32m    346\u001b[0m \u001b[43m    \u001b[49m\u001b[43mestimator\u001b[49m\u001b[43m,\u001b[49m\u001b[43m \u001b[49m\u001b[43mresponse_method\u001b[49m\u001b[38;5;241;43m.\u001b[39;49m\u001b[38;5;18;43m__name__\u001b[39;49m\u001b[43m,\u001b[49m\u001b[43m \u001b[49m\u001b[43mX\u001b[49m\u001b[43m,\u001b[49m\u001b[43m \u001b[49m\u001b[43mpos_label\u001b[49m\u001b[38;5;241;43m=\u001b[39;49m\u001b[43mpos_label\u001b[49m\n\u001b[1;32m    347\u001b[0m \u001b[43m\u001b[49m\u001b[43m)\u001b[49m\n\u001b[1;32m    349\u001b[0m scoring_kwargs \u001b[38;5;241m=\u001b[39m {\u001b[38;5;241m*\u001b[39m\u001b[38;5;241m*\u001b[39m\u001b[38;5;28mself\u001b[39m\u001b[38;5;241m.\u001b[39m_kwargs, \u001b[38;5;241m*\u001b[39m\u001b[38;5;241m*\u001b[39mkwargs}\n\u001b[1;32m    350\u001b[0m \u001b[38;5;28;01mreturn\u001b[39;00m \u001b[38;5;28mself\u001b[39m\u001b[38;5;241m.\u001b[39m_sign \u001b[38;5;241m*\u001b[39m \u001b[38;5;28mself\u001b[39m\u001b[38;5;241m.\u001b[39m_score_func(y_true, y_pred, \u001b[38;5;241m*\u001b[39m\u001b[38;5;241m*\u001b[39mscoring_kwargs)\n",
      "File \u001b[0;32m/usr/lib/python3/dist-packages/sklearn/metrics/_scorer.py:87\u001b[0m, in \u001b[0;36m_cached_call\u001b[0;34m(cache, estimator, response_method, *args, **kwargs)\u001b[0m\n\u001b[1;32m     84\u001b[0m \u001b[38;5;28;01mif\u001b[39;00m cache \u001b[38;5;129;01mis\u001b[39;00m \u001b[38;5;129;01mnot\u001b[39;00m \u001b[38;5;28;01mNone\u001b[39;00m \u001b[38;5;129;01mand\u001b[39;00m response_method \u001b[38;5;129;01min\u001b[39;00m cache:\n\u001b[1;32m     85\u001b[0m     \u001b[38;5;28;01mreturn\u001b[39;00m cache[response_method]\n\u001b[0;32m---> 87\u001b[0m result, _ \u001b[38;5;241m=\u001b[39m \u001b[43m_get_response_values\u001b[49m\u001b[43m(\u001b[49m\n\u001b[1;32m     88\u001b[0m \u001b[43m    \u001b[49m\u001b[43mestimator\u001b[49m\u001b[43m,\u001b[49m\u001b[43m \u001b[49m\u001b[38;5;241;43m*\u001b[39;49m\u001b[43margs\u001b[49m\u001b[43m,\u001b[49m\u001b[43m \u001b[49m\u001b[43mresponse_method\u001b[49m\u001b[38;5;241;43m=\u001b[39;49m\u001b[43mresponse_method\u001b[49m\u001b[43m,\u001b[49m\u001b[43m \u001b[49m\u001b[38;5;241;43m*\u001b[39;49m\u001b[38;5;241;43m*\u001b[39;49m\u001b[43mkwargs\u001b[49m\n\u001b[1;32m     89\u001b[0m \u001b[43m\u001b[49m\u001b[43m)\u001b[49m\n\u001b[1;32m     91\u001b[0m \u001b[38;5;28;01mif\u001b[39;00m cache \u001b[38;5;129;01mis\u001b[39;00m \u001b[38;5;129;01mnot\u001b[39;00m \u001b[38;5;28;01mNone\u001b[39;00m:\n\u001b[1;32m     92\u001b[0m     cache[response_method] \u001b[38;5;241m=\u001b[39m result\n",
      "File \u001b[0;32m/usr/lib/python3/dist-packages/sklearn/utils/_response.py:238\u001b[0m, in \u001b[0;36m_get_response_values\u001b[0;34m(estimator, X, response_method, pos_label, return_response_method_used)\u001b[0m\n\u001b[1;32m    231\u001b[0m         \u001b[38;5;28;01mraise\u001b[39;00m \u001b[38;5;167;01mValueError\u001b[39;00m(\n\u001b[1;32m    232\u001b[0m             \u001b[38;5;124mf\u001b[39m\u001b[38;5;124m\"\u001b[39m\u001b[38;5;132;01m{\u001b[39;00mestimator\u001b[38;5;241m.\u001b[39m\u001b[38;5;18m__class__\u001b[39m\u001b[38;5;241m.\u001b[39m\u001b[38;5;18m__name__\u001b[39m\u001b[38;5;132;01m}\u001b[39;00m\u001b[38;5;124m should either be a classifier to be \u001b[39m\u001b[38;5;124m\"\u001b[39m\n\u001b[1;32m    233\u001b[0m             \u001b[38;5;124mf\u001b[39m\u001b[38;5;124m\"\u001b[39m\u001b[38;5;124mused with response_method=\u001b[39m\u001b[38;5;132;01m{\u001b[39;00mresponse_method\u001b[38;5;132;01m}\u001b[39;00m\u001b[38;5;124m or the response_method \u001b[39m\u001b[38;5;124m\"\u001b[39m\n\u001b[1;32m    234\u001b[0m             \u001b[38;5;124m\"\u001b[39m\u001b[38;5;124mshould be \u001b[39m\u001b[38;5;124m'\u001b[39m\u001b[38;5;124mpredict\u001b[39m\u001b[38;5;124m'\u001b[39m\u001b[38;5;124m. Got a regressor with response_method=\u001b[39m\u001b[38;5;124m\"\u001b[39m\n\u001b[1;32m    235\u001b[0m             \u001b[38;5;124mf\u001b[39m\u001b[38;5;124m\"\u001b[39m\u001b[38;5;132;01m{\u001b[39;00mresponse_method\u001b[38;5;132;01m}\u001b[39;00m\u001b[38;5;124m instead.\u001b[39m\u001b[38;5;124m\"\u001b[39m\n\u001b[1;32m    236\u001b[0m         )\n\u001b[1;32m    237\u001b[0m     prediction_method \u001b[38;5;241m=\u001b[39m estimator\u001b[38;5;241m.\u001b[39mpredict\n\u001b[0;32m--> 238\u001b[0m     y_pred, pos_label \u001b[38;5;241m=\u001b[39m \u001b[43mprediction_method\u001b[49m\u001b[43m(\u001b[49m\u001b[43mX\u001b[49m\u001b[43m)\u001b[49m, \u001b[38;5;28;01mNone\u001b[39;00m\n\u001b[1;32m    240\u001b[0m \u001b[38;5;28;01mif\u001b[39;00m return_response_method_used:\n\u001b[1;32m    241\u001b[0m     \u001b[38;5;28;01mreturn\u001b[39;00m y_pred, pos_label, prediction_method\u001b[38;5;241m.\u001b[39m\u001b[38;5;18m__name__\u001b[39m\n",
      "File \u001b[0;32m/usr/lib/python3/dist-packages/sklearn/pipeline.py:603\u001b[0m, in \u001b[0;36mPipeline.predict\u001b[0;34m(self, X, **params)\u001b[0m\n\u001b[1;32m    601\u001b[0m     \u001b[38;5;28;01mfor\u001b[39;00m _, name, transform \u001b[38;5;129;01min\u001b[39;00m \u001b[38;5;28mself\u001b[39m\u001b[38;5;241m.\u001b[39m_iter(with_final\u001b[38;5;241m=\u001b[39m\u001b[38;5;28;01mFalse\u001b[39;00m):\n\u001b[1;32m    602\u001b[0m         Xt \u001b[38;5;241m=\u001b[39m transform\u001b[38;5;241m.\u001b[39mtransform(Xt)\n\u001b[0;32m--> 603\u001b[0m     \u001b[38;5;28;01mreturn\u001b[39;00m \u001b[38;5;28;43mself\u001b[39;49m\u001b[38;5;241;43m.\u001b[39;49m\u001b[43msteps\u001b[49m\u001b[43m[\u001b[49m\u001b[38;5;241;43m-\u001b[39;49m\u001b[38;5;241;43m1\u001b[39;49m\u001b[43m]\u001b[49m\u001b[43m[\u001b[49m\u001b[38;5;241;43m1\u001b[39;49m\u001b[43m]\u001b[49m\u001b[38;5;241;43m.\u001b[39;49m\u001b[43mpredict\u001b[49m\u001b[43m(\u001b[49m\u001b[43mXt\u001b[49m\u001b[43m,\u001b[49m\u001b[43m \u001b[49m\u001b[38;5;241;43m*\u001b[39;49m\u001b[38;5;241;43m*\u001b[39;49m\u001b[43mparams\u001b[49m\u001b[43m)\u001b[49m\n\u001b[1;32m    605\u001b[0m \u001b[38;5;66;03m# metadata routing enabled\u001b[39;00m\n\u001b[1;32m    606\u001b[0m routed_params \u001b[38;5;241m=\u001b[39m process_routing(\u001b[38;5;28mself\u001b[39m, \u001b[38;5;124m\"\u001b[39m\u001b[38;5;124mpredict\u001b[39m\u001b[38;5;124m\"\u001b[39m, \u001b[38;5;241m*\u001b[39m\u001b[38;5;241m*\u001b[39mparams)\n",
      "File \u001b[0;32m/usr/lib/python3/dist-packages/sklearn/neighbors/_regression.py:242\u001b[0m, in \u001b[0;36mKNeighborsRegressor.predict\u001b[0;34m(self, X)\u001b[0m\n\u001b[1;32m    226\u001b[0m \u001b[38;5;250m\u001b[39m\u001b[38;5;124;03m\"\"\"Predict the target for the provided data.\u001b[39;00m\n\u001b[1;32m    227\u001b[0m \n\u001b[1;32m    228\u001b[0m \u001b[38;5;124;03mParameters\u001b[39;00m\n\u001b[0;32m   (...)\u001b[0m\n\u001b[1;32m    237\u001b[0m \u001b[38;5;124;03m    Target values.\u001b[39;00m\n\u001b[1;32m    238\u001b[0m \u001b[38;5;124;03m\"\"\"\u001b[39;00m\n\u001b[1;32m    239\u001b[0m \u001b[38;5;28;01mif\u001b[39;00m \u001b[38;5;28mself\u001b[39m\u001b[38;5;241m.\u001b[39mweights \u001b[38;5;241m==\u001b[39m \u001b[38;5;124m\"\u001b[39m\u001b[38;5;124muniform\u001b[39m\u001b[38;5;124m\"\u001b[39m:\n\u001b[1;32m    240\u001b[0m     \u001b[38;5;66;03m# In that case, we do not need the distances to perform\u001b[39;00m\n\u001b[1;32m    241\u001b[0m     \u001b[38;5;66;03m# the weighting so we do not compute them.\u001b[39;00m\n\u001b[0;32m--> 242\u001b[0m     neigh_ind \u001b[38;5;241m=\u001b[39m \u001b[38;5;28;43mself\u001b[39;49m\u001b[38;5;241;43m.\u001b[39;49m\u001b[43mkneighbors\u001b[49m\u001b[43m(\u001b[49m\u001b[43mX\u001b[49m\u001b[43m,\u001b[49m\u001b[43m \u001b[49m\u001b[43mreturn_distance\u001b[49m\u001b[38;5;241;43m=\u001b[39;49m\u001b[38;5;28;43;01mFalse\u001b[39;49;00m\u001b[43m)\u001b[49m\n\u001b[1;32m    243\u001b[0m     neigh_dist \u001b[38;5;241m=\u001b[39m \u001b[38;5;28;01mNone\u001b[39;00m\n\u001b[1;32m    244\u001b[0m \u001b[38;5;28;01melse\u001b[39;00m:\n",
      "File \u001b[0;32m/usr/lib/python3/dist-packages/sklearn/neighbors/_base.py:887\u001b[0m, in \u001b[0;36mKNeighborsMixin.kneighbors\u001b[0;34m(self, X, n_neighbors, return_distance)\u001b[0m\n\u001b[1;32m    884\u001b[0m     \u001b[38;5;28;01melse\u001b[39;00m:\n\u001b[1;32m    885\u001b[0m         kwds \u001b[38;5;241m=\u001b[39m \u001b[38;5;28mself\u001b[39m\u001b[38;5;241m.\u001b[39meffective_metric_params_\n\u001b[0;32m--> 887\u001b[0m     chunked_results \u001b[38;5;241m=\u001b[39m \u001b[38;5;28;43mlist\u001b[39;49m\u001b[43m(\u001b[49m\n\u001b[1;32m    888\u001b[0m \u001b[43m        \u001b[49m\u001b[43mpairwise_distances_chunked\u001b[49m\u001b[43m(\u001b[49m\n\u001b[1;32m    889\u001b[0m \u001b[43m            \u001b[49m\u001b[43mX\u001b[49m\u001b[43m,\u001b[49m\n\u001b[1;32m    890\u001b[0m \u001b[43m            \u001b[49m\u001b[38;5;28;43mself\u001b[39;49m\u001b[38;5;241;43m.\u001b[39;49m\u001b[43m_fit_X\u001b[49m\u001b[43m,\u001b[49m\n\u001b[1;32m    891\u001b[0m \u001b[43m            \u001b[49m\u001b[43mreduce_func\u001b[49m\u001b[38;5;241;43m=\u001b[39;49m\u001b[43mreduce_func\u001b[49m\u001b[43m,\u001b[49m\n\u001b[1;32m    892\u001b[0m \u001b[43m            \u001b[49m\u001b[43mmetric\u001b[49m\u001b[38;5;241;43m=\u001b[39;49m\u001b[38;5;28;43mself\u001b[39;49m\u001b[38;5;241;43m.\u001b[39;49m\u001b[43meffective_metric_\u001b[49m\u001b[43m,\u001b[49m\n\u001b[1;32m    893\u001b[0m \u001b[43m            \u001b[49m\u001b[43mn_jobs\u001b[49m\u001b[38;5;241;43m=\u001b[39;49m\u001b[43mn_jobs\u001b[49m\u001b[43m,\u001b[49m\n\u001b[1;32m    894\u001b[0m \u001b[43m            \u001b[49m\u001b[38;5;241;43m*\u001b[39;49m\u001b[38;5;241;43m*\u001b[39;49m\u001b[43mkwds\u001b[49m\u001b[43m,\u001b[49m\n\u001b[1;32m    895\u001b[0m \u001b[43m        \u001b[49m\u001b[43m)\u001b[49m\n\u001b[1;32m    896\u001b[0m \u001b[43m    \u001b[49m\u001b[43m)\u001b[49m\n\u001b[1;32m    898\u001b[0m \u001b[38;5;28;01melif\u001b[39;00m \u001b[38;5;28mself\u001b[39m\u001b[38;5;241m.\u001b[39m_fit_method \u001b[38;5;129;01min\u001b[39;00m [\u001b[38;5;124m\"\u001b[39m\u001b[38;5;124mball_tree\u001b[39m\u001b[38;5;124m\"\u001b[39m, \u001b[38;5;124m\"\u001b[39m\u001b[38;5;124mkd_tree\u001b[39m\u001b[38;5;124m\"\u001b[39m]:\n\u001b[1;32m    899\u001b[0m     \u001b[38;5;28;01mif\u001b[39;00m issparse(X):\n",
      "File \u001b[0;32m/usr/lib/python3/dist-packages/sklearn/metrics/pairwise.py:2144\u001b[0m, in \u001b[0;36mpairwise_distances_chunked\u001b[0;34m(X, Y, reduce_func, metric, n_jobs, working_memory, **kwds)\u001b[0m\n\u001b[1;32m   2142\u001b[0m \u001b[38;5;28;01melse\u001b[39;00m:\n\u001b[1;32m   2143\u001b[0m     X_chunk \u001b[38;5;241m=\u001b[39m X[sl]\n\u001b[0;32m-> 2144\u001b[0m D_chunk \u001b[38;5;241m=\u001b[39m \u001b[43mpairwise_distances\u001b[49m\u001b[43m(\u001b[49m\u001b[43mX_chunk\u001b[49m\u001b[43m,\u001b[49m\u001b[43m \u001b[49m\u001b[43mY\u001b[49m\u001b[43m,\u001b[49m\u001b[43m \u001b[49m\u001b[43mmetric\u001b[49m\u001b[38;5;241;43m=\u001b[39;49m\u001b[43mmetric\u001b[49m\u001b[43m,\u001b[49m\u001b[43m \u001b[49m\u001b[43mn_jobs\u001b[49m\u001b[38;5;241;43m=\u001b[39;49m\u001b[43mn_jobs\u001b[49m\u001b[43m,\u001b[49m\u001b[43m \u001b[49m\u001b[38;5;241;43m*\u001b[39;49m\u001b[38;5;241;43m*\u001b[39;49m\u001b[43mkwds\u001b[49m\u001b[43m)\u001b[49m\n\u001b[1;32m   2145\u001b[0m \u001b[38;5;28;01mif\u001b[39;00m (X \u001b[38;5;129;01mis\u001b[39;00m Y \u001b[38;5;129;01mor\u001b[39;00m Y \u001b[38;5;129;01mis\u001b[39;00m \u001b[38;5;28;01mNone\u001b[39;00m) \u001b[38;5;129;01mand\u001b[39;00m PAIRWISE_DISTANCE_FUNCTIONS\u001b[38;5;241m.\u001b[39mget(\n\u001b[1;32m   2146\u001b[0m     metric, \u001b[38;5;28;01mNone\u001b[39;00m\n\u001b[1;32m   2147\u001b[0m ) \u001b[38;5;129;01mis\u001b[39;00m euclidean_distances:\n\u001b[1;32m   2148\u001b[0m     \u001b[38;5;66;03m# zeroing diagonal, taking care of aliases of \"euclidean\",\u001b[39;00m\n\u001b[1;32m   2149\u001b[0m     \u001b[38;5;66;03m# i.e. \"l2\"\u001b[39;00m\n\u001b[1;32m   2150\u001b[0m     D_chunk\u001b[38;5;241m.\u001b[39mflat[sl\u001b[38;5;241m.\u001b[39mstart :: _num_samples(X) \u001b[38;5;241m+\u001b[39m \u001b[38;5;241m1\u001b[39m] \u001b[38;5;241m=\u001b[39m \u001b[38;5;241m0\u001b[39m\n",
      "File \u001b[0;32m/usr/lib/python3/dist-packages/sklearn/utils/_param_validation.py:213\u001b[0m, in \u001b[0;36mvalidate_params.<locals>.decorator.<locals>.wrapper\u001b[0;34m(*args, **kwargs)\u001b[0m\n\u001b[1;32m    207\u001b[0m \u001b[38;5;28;01mtry\u001b[39;00m:\n\u001b[1;32m    208\u001b[0m     \u001b[38;5;28;01mwith\u001b[39;00m config_context(\n\u001b[1;32m    209\u001b[0m         skip_parameter_validation\u001b[38;5;241m=\u001b[39m(\n\u001b[1;32m    210\u001b[0m             prefer_skip_nested_validation \u001b[38;5;129;01mor\u001b[39;00m global_skip_validation\n\u001b[1;32m    211\u001b[0m         )\n\u001b[1;32m    212\u001b[0m     ):\n\u001b[0;32m--> 213\u001b[0m         \u001b[38;5;28;01mreturn\u001b[39;00m \u001b[43mfunc\u001b[49m\u001b[43m(\u001b[49m\u001b[38;5;241;43m*\u001b[39;49m\u001b[43margs\u001b[49m\u001b[43m,\u001b[49m\u001b[43m \u001b[49m\u001b[38;5;241;43m*\u001b[39;49m\u001b[38;5;241;43m*\u001b[39;49m\u001b[43mkwargs\u001b[49m\u001b[43m)\u001b[49m\n\u001b[1;32m    214\u001b[0m \u001b[38;5;28;01mexcept\u001b[39;00m InvalidParameterError \u001b[38;5;28;01mas\u001b[39;00m e:\n\u001b[1;32m    215\u001b[0m     \u001b[38;5;66;03m# When the function is just a wrapper around an estimator, we allow\u001b[39;00m\n\u001b[1;32m    216\u001b[0m     \u001b[38;5;66;03m# the function to delegate validation to the estimator, but we replace\u001b[39;00m\n\u001b[1;32m    217\u001b[0m     \u001b[38;5;66;03m# the name of the estimator by the name of the function in the error\u001b[39;00m\n\u001b[1;32m    218\u001b[0m     \u001b[38;5;66;03m# message to avoid confusion.\u001b[39;00m\n\u001b[1;32m    219\u001b[0m     msg \u001b[38;5;241m=\u001b[39m re\u001b[38;5;241m.\u001b[39msub(\n\u001b[1;32m    220\u001b[0m         \u001b[38;5;124mr\u001b[39m\u001b[38;5;124m\"\u001b[39m\u001b[38;5;124mparameter of \u001b[39m\u001b[38;5;124m\\\u001b[39m\u001b[38;5;124mw+ must be\u001b[39m\u001b[38;5;124m\"\u001b[39m,\n\u001b[1;32m    221\u001b[0m         \u001b[38;5;124mf\u001b[39m\u001b[38;5;124m\"\u001b[39m\u001b[38;5;124mparameter of \u001b[39m\u001b[38;5;132;01m{\u001b[39;00mfunc\u001b[38;5;241m.\u001b[39m\u001b[38;5;18m__qualname__\u001b[39m\u001b[38;5;132;01m}\u001b[39;00m\u001b[38;5;124m must be\u001b[39m\u001b[38;5;124m\"\u001b[39m,\n\u001b[1;32m    222\u001b[0m         \u001b[38;5;28mstr\u001b[39m(e),\n\u001b[1;32m    223\u001b[0m     )\n",
      "File \u001b[0;32m/usr/lib/python3/dist-packages/sklearn/metrics/pairwise.py:2331\u001b[0m, in \u001b[0;36mpairwise_distances\u001b[0;34m(X, Y, metric, n_jobs, force_all_finite, **kwds)\u001b[0m\n\u001b[1;32m   2328\u001b[0m         \u001b[38;5;28;01mreturn\u001b[39;00m distance\u001b[38;5;241m.\u001b[39msquareform(distance\u001b[38;5;241m.\u001b[39mpdist(X, metric\u001b[38;5;241m=\u001b[39mmetric, \u001b[38;5;241m*\u001b[39m\u001b[38;5;241m*\u001b[39mkwds))\n\u001b[1;32m   2329\u001b[0m     func \u001b[38;5;241m=\u001b[39m partial(distance\u001b[38;5;241m.\u001b[39mcdist, metric\u001b[38;5;241m=\u001b[39mmetric, \u001b[38;5;241m*\u001b[39m\u001b[38;5;241m*\u001b[39mkwds)\n\u001b[0;32m-> 2331\u001b[0m \u001b[38;5;28;01mreturn\u001b[39;00m \u001b[43m_parallel_pairwise\u001b[49m\u001b[43m(\u001b[49m\u001b[43mX\u001b[49m\u001b[43m,\u001b[49m\u001b[43m \u001b[49m\u001b[43mY\u001b[49m\u001b[43m,\u001b[49m\u001b[43m \u001b[49m\u001b[43mfunc\u001b[49m\u001b[43m,\u001b[49m\u001b[43m \u001b[49m\u001b[43mn_jobs\u001b[49m\u001b[43m,\u001b[49m\u001b[43m \u001b[49m\u001b[38;5;241;43m*\u001b[39;49m\u001b[38;5;241;43m*\u001b[39;49m\u001b[43mkwds\u001b[49m\u001b[43m)\u001b[49m\n",
      "File \u001b[0;32m/usr/lib/python3/dist-packages/sklearn/metrics/pairwise.py:1871\u001b[0m, in \u001b[0;36m_parallel_pairwise\u001b[0;34m(X, Y, func, n_jobs, **kwds)\u001b[0m\n\u001b[1;32m   1868\u001b[0m X, Y, dtype \u001b[38;5;241m=\u001b[39m _return_float_dtype(X, Y)\n\u001b[1;32m   1870\u001b[0m \u001b[38;5;28;01mif\u001b[39;00m effective_n_jobs(n_jobs) \u001b[38;5;241m==\u001b[39m \u001b[38;5;241m1\u001b[39m:\n\u001b[0;32m-> 1871\u001b[0m     \u001b[38;5;28;01mreturn\u001b[39;00m \u001b[43mfunc\u001b[49m\u001b[43m(\u001b[49m\u001b[43mX\u001b[49m\u001b[43m,\u001b[49m\u001b[43m \u001b[49m\u001b[43mY\u001b[49m\u001b[43m,\u001b[49m\u001b[43m \u001b[49m\u001b[38;5;241;43m*\u001b[39;49m\u001b[38;5;241;43m*\u001b[39;49m\u001b[43mkwds\u001b[49m\u001b[43m)\u001b[49m\n\u001b[1;32m   1873\u001b[0m \u001b[38;5;66;03m# enforce a threading backend to prevent data communication overhead\u001b[39;00m\n\u001b[1;32m   1874\u001b[0m fd \u001b[38;5;241m=\u001b[39m delayed(_dist_wrapper)\n",
      "File \u001b[0;32m/usr/lib/python3/dist-packages/sklearn/utils/_param_validation.py:186\u001b[0m, in \u001b[0;36mvalidate_params.<locals>.decorator.<locals>.wrapper\u001b[0;34m(*args, **kwargs)\u001b[0m\n\u001b[1;32m    184\u001b[0m global_skip_validation \u001b[38;5;241m=\u001b[39m get_config()[\u001b[38;5;124m\"\u001b[39m\u001b[38;5;124mskip_parameter_validation\u001b[39m\u001b[38;5;124m\"\u001b[39m]\n\u001b[1;32m    185\u001b[0m \u001b[38;5;28;01mif\u001b[39;00m global_skip_validation:\n\u001b[0;32m--> 186\u001b[0m     \u001b[38;5;28;01mreturn\u001b[39;00m \u001b[43mfunc\u001b[49m\u001b[43m(\u001b[49m\u001b[38;5;241;43m*\u001b[39;49m\u001b[43margs\u001b[49m\u001b[43m,\u001b[49m\u001b[43m \u001b[49m\u001b[38;5;241;43m*\u001b[39;49m\u001b[38;5;241;43m*\u001b[39;49m\u001b[43mkwargs\u001b[49m\u001b[43m)\u001b[49m\n\u001b[1;32m    188\u001b[0m func_sig \u001b[38;5;241m=\u001b[39m signature(func)\n\u001b[1;32m    190\u001b[0m \u001b[38;5;66;03m# Map *args/**kwargs to the function signature\u001b[39;00m\n",
      "File \u001b[0;32m/usr/lib/python3/dist-packages/sklearn/metrics/pairwise.py:347\u001b[0m, in \u001b[0;36meuclidean_distances\u001b[0;34m(X, Y, Y_norm_squared, squared, X_norm_squared)\u001b[0m\n\u001b[1;32m    341\u001b[0m     \u001b[38;5;28;01mif\u001b[39;00m Y_norm_squared\u001b[38;5;241m.\u001b[39mshape \u001b[38;5;241m!=\u001b[39m (\u001b[38;5;241m1\u001b[39m, Y\u001b[38;5;241m.\u001b[39mshape[\u001b[38;5;241m0\u001b[39m]):\n\u001b[1;32m    342\u001b[0m         \u001b[38;5;28;01mraise\u001b[39;00m \u001b[38;5;167;01mValueError\u001b[39;00m(\n\u001b[1;32m    343\u001b[0m             \u001b[38;5;124mf\u001b[39m\u001b[38;5;124m\"\u001b[39m\u001b[38;5;124mIncompatible dimensions for Y of shape \u001b[39m\u001b[38;5;132;01m{\u001b[39;00mY\u001b[38;5;241m.\u001b[39mshape\u001b[38;5;132;01m}\u001b[39;00m\u001b[38;5;124m and \u001b[39m\u001b[38;5;124m\"\u001b[39m\n\u001b[1;32m    344\u001b[0m             \u001b[38;5;124mf\u001b[39m\u001b[38;5;124m\"\u001b[39m\u001b[38;5;124mY_norm_squared of shape \u001b[39m\u001b[38;5;132;01m{\u001b[39;00moriginal_shape\u001b[38;5;132;01m}\u001b[39;00m\u001b[38;5;124m.\u001b[39m\u001b[38;5;124m\"\u001b[39m\n\u001b[1;32m    345\u001b[0m         )\n\u001b[0;32m--> 347\u001b[0m \u001b[38;5;28;01mreturn\u001b[39;00m \u001b[43m_euclidean_distances\u001b[49m\u001b[43m(\u001b[49m\u001b[43mX\u001b[49m\u001b[43m,\u001b[49m\u001b[43m \u001b[49m\u001b[43mY\u001b[49m\u001b[43m,\u001b[49m\u001b[43m \u001b[49m\u001b[43mX_norm_squared\u001b[49m\u001b[43m,\u001b[49m\u001b[43m \u001b[49m\u001b[43mY_norm_squared\u001b[49m\u001b[43m,\u001b[49m\u001b[43m \u001b[49m\u001b[43msquared\u001b[49m\u001b[43m)\u001b[49m\n",
      "File \u001b[0;32m/usr/lib/python3/dist-packages/sklearn/metrics/pairwise.py:382\u001b[0m, in \u001b[0;36m_euclidean_distances\u001b[0;34m(X, Y, X_norm_squared, Y_norm_squared, squared)\u001b[0m\n\u001b[1;32m    379\u001b[0m     distances \u001b[38;5;241m=\u001b[39m _euclidean_distances_upcast(X, XX, Y, YY)\n\u001b[1;32m    380\u001b[0m \u001b[38;5;28;01melse\u001b[39;00m:\n\u001b[1;32m    381\u001b[0m     \u001b[38;5;66;03m# if dtype is already float64, no need to chunk and upcast\u001b[39;00m\n\u001b[0;32m--> 382\u001b[0m     distances \u001b[38;5;241m=\u001b[39m \u001b[38;5;241m-\u001b[39m\u001b[38;5;241m2\u001b[39m \u001b[38;5;241m*\u001b[39m \u001b[43msafe_sparse_dot\u001b[49m\u001b[43m(\u001b[49m\u001b[43mX\u001b[49m\u001b[43m,\u001b[49m\u001b[43m \u001b[49m\u001b[43mY\u001b[49m\u001b[38;5;241;43m.\u001b[39;49m\u001b[43mT\u001b[49m\u001b[43m,\u001b[49m\u001b[43m \u001b[49m\u001b[43mdense_output\u001b[49m\u001b[38;5;241;43m=\u001b[39;49m\u001b[38;5;28;43;01mTrue\u001b[39;49;00m\u001b[43m)\u001b[49m\n\u001b[1;32m    383\u001b[0m     distances \u001b[38;5;241m+\u001b[39m\u001b[38;5;241m=\u001b[39m XX\n\u001b[1;32m    384\u001b[0m     distances \u001b[38;5;241m+\u001b[39m\u001b[38;5;241m=\u001b[39m YY\n",
      "File \u001b[0;32m/usr/lib/python3/dist-packages/sklearn/utils/extmath.py:208\u001b[0m, in \u001b[0;36msafe_sparse_dot\u001b[0;34m(a, b, dense_output)\u001b[0m\n\u001b[1;32m    206\u001b[0m         ret \u001b[38;5;241m=\u001b[39m np\u001b[38;5;241m.\u001b[39mdot(a, b)\n\u001b[1;32m    207\u001b[0m \u001b[38;5;28;01melse\u001b[39;00m:\n\u001b[0;32m--> 208\u001b[0m     ret \u001b[38;5;241m=\u001b[39m \u001b[43ma\u001b[49m\u001b[43m \u001b[49m\u001b[38;5;241;43m@\u001b[39;49m\u001b[43m \u001b[49m\u001b[43mb\u001b[49m\n\u001b[1;32m    210\u001b[0m \u001b[38;5;28;01mif\u001b[39;00m (\n\u001b[1;32m    211\u001b[0m     sparse\u001b[38;5;241m.\u001b[39missparse(a)\n\u001b[1;32m    212\u001b[0m     \u001b[38;5;129;01mand\u001b[39;00m sparse\u001b[38;5;241m.\u001b[39missparse(b)\n\u001b[1;32m    213\u001b[0m     \u001b[38;5;129;01mand\u001b[39;00m dense_output\n\u001b[1;32m    214\u001b[0m     \u001b[38;5;129;01mand\u001b[39;00m \u001b[38;5;28mhasattr\u001b[39m(ret, \u001b[38;5;124m\"\u001b[39m\u001b[38;5;124mtoarray\u001b[39m\u001b[38;5;124m\"\u001b[39m)\n\u001b[1;32m    215\u001b[0m ):\n\u001b[1;32m    216\u001b[0m     \u001b[38;5;28;01mreturn\u001b[39;00m ret\u001b[38;5;241m.\u001b[39mtoarray()\n",
      "File \u001b[0;32m/usr/lib/python3/dist-packages/scipy/sparse/_base.py:624\u001b[0m, in \u001b[0;36m_spbase.__matmul__\u001b[0;34m(self, other)\u001b[0m\n\u001b[1;32m    621\u001b[0m \u001b[38;5;28;01mif\u001b[39;00m isscalarlike(other):\n\u001b[1;32m    622\u001b[0m     \u001b[38;5;28;01mraise\u001b[39;00m \u001b[38;5;167;01mValueError\u001b[39;00m(\u001b[38;5;124m\"\u001b[39m\u001b[38;5;124mScalar operands are not allowed, \u001b[39m\u001b[38;5;124m\"\u001b[39m\n\u001b[1;32m    623\u001b[0m                      \u001b[38;5;124m\"\u001b[39m\u001b[38;5;124muse \u001b[39m\u001b[38;5;124m'\u001b[39m\u001b[38;5;124m*\u001b[39m\u001b[38;5;124m'\u001b[39m\u001b[38;5;124m instead\u001b[39m\u001b[38;5;124m\"\u001b[39m)\n\u001b[0;32m--> 624\u001b[0m \u001b[38;5;28;01mreturn\u001b[39;00m \u001b[38;5;28;43mself\u001b[39;49m\u001b[38;5;241;43m.\u001b[39;49m\u001b[43m_mul_dispatch\u001b[49m\u001b[43m(\u001b[49m\u001b[43mother\u001b[49m\u001b[43m)\u001b[49m\n",
      "File \u001b[0;32m/usr/lib/python3/dist-packages/scipy/sparse/_base.py:535\u001b[0m, in \u001b[0;36m_spbase._mul_dispatch\u001b[0;34m(self, other)\u001b[0m\n\u001b[1;32m    533\u001b[0m     \u001b[38;5;28;01mif\u001b[39;00m \u001b[38;5;28mself\u001b[39m\u001b[38;5;241m.\u001b[39mshape[\u001b[38;5;241m1\u001b[39m] \u001b[38;5;241m!=\u001b[39m other\u001b[38;5;241m.\u001b[39mshape[\u001b[38;5;241m0\u001b[39m]:\n\u001b[1;32m    534\u001b[0m         \u001b[38;5;28;01mraise\u001b[39;00m \u001b[38;5;167;01mValueError\u001b[39;00m(\u001b[38;5;124m'\u001b[39m\u001b[38;5;124mdimension mismatch\u001b[39m\u001b[38;5;124m'\u001b[39m)\n\u001b[0;32m--> 535\u001b[0m     \u001b[38;5;28;01mreturn\u001b[39;00m \u001b[38;5;28;43mself\u001b[39;49m\u001b[38;5;241;43m.\u001b[39;49m\u001b[43m_mul_sparse_matrix\u001b[49m\u001b[43m(\u001b[49m\u001b[43mother\u001b[49m\u001b[43m)\u001b[49m\n\u001b[1;32m    537\u001b[0m \u001b[38;5;66;03m# If it's a list or whatever, treat it like an array\u001b[39;00m\n\u001b[1;32m    538\u001b[0m other_a \u001b[38;5;241m=\u001b[39m np\u001b[38;5;241m.\u001b[39masanyarray(other)\n",
      "File \u001b[0;32m/usr/lib/python3/dist-packages/scipy/sparse/_compressed.py:532\u001b[0m, in \u001b[0;36m_cs_matrix._mul_sparse_matrix\u001b[0;34m(self, other)\u001b[0m\n\u001b[1;32m    529\u001b[0m data \u001b[38;5;241m=\u001b[39m np\u001b[38;5;241m.\u001b[39mempty(nnz, dtype\u001b[38;5;241m=\u001b[39mupcast(\u001b[38;5;28mself\u001b[39m\u001b[38;5;241m.\u001b[39mdtype, other\u001b[38;5;241m.\u001b[39mdtype))\n\u001b[1;32m    531\u001b[0m fn \u001b[38;5;241m=\u001b[39m \u001b[38;5;28mgetattr\u001b[39m(_sparsetools, \u001b[38;5;28mself\u001b[39m\u001b[38;5;241m.\u001b[39mformat \u001b[38;5;241m+\u001b[39m \u001b[38;5;124m'\u001b[39m\u001b[38;5;124m_matmat\u001b[39m\u001b[38;5;124m'\u001b[39m)\n\u001b[0;32m--> 532\u001b[0m \u001b[43mfn\u001b[49m\u001b[43m(\u001b[49m\u001b[43mM\u001b[49m\u001b[43m,\u001b[49m\u001b[43m \u001b[49m\u001b[43mN\u001b[49m\u001b[43m,\u001b[49m\u001b[43m \u001b[49m\u001b[43mnp\u001b[49m\u001b[38;5;241;43m.\u001b[39;49m\u001b[43masarray\u001b[49m\u001b[43m(\u001b[49m\u001b[38;5;28;43mself\u001b[39;49m\u001b[38;5;241;43m.\u001b[39;49m\u001b[43mindptr\u001b[49m\u001b[43m,\u001b[49m\u001b[43m \u001b[49m\u001b[43mdtype\u001b[49m\u001b[38;5;241;43m=\u001b[39;49m\u001b[43midx_dtype\u001b[49m\u001b[43m)\u001b[49m\u001b[43m,\u001b[49m\n\u001b[1;32m    533\u001b[0m \u001b[43m   \u001b[49m\u001b[43mnp\u001b[49m\u001b[38;5;241;43m.\u001b[39;49m\u001b[43masarray\u001b[49m\u001b[43m(\u001b[49m\u001b[38;5;28;43mself\u001b[39;49m\u001b[38;5;241;43m.\u001b[39;49m\u001b[43mindices\u001b[49m\u001b[43m,\u001b[49m\u001b[43m \u001b[49m\u001b[43mdtype\u001b[49m\u001b[38;5;241;43m=\u001b[39;49m\u001b[43midx_dtype\u001b[49m\u001b[43m)\u001b[49m\u001b[43m,\u001b[49m\n\u001b[1;32m    534\u001b[0m \u001b[43m   \u001b[49m\u001b[38;5;28;43mself\u001b[39;49m\u001b[38;5;241;43m.\u001b[39;49m\u001b[43mdata\u001b[49m\u001b[43m,\u001b[49m\n\u001b[1;32m    535\u001b[0m \u001b[43m   \u001b[49m\u001b[43mnp\u001b[49m\u001b[38;5;241;43m.\u001b[39;49m\u001b[43masarray\u001b[49m\u001b[43m(\u001b[49m\u001b[43mother\u001b[49m\u001b[38;5;241;43m.\u001b[39;49m\u001b[43mindptr\u001b[49m\u001b[43m,\u001b[49m\u001b[43m \u001b[49m\u001b[43mdtype\u001b[49m\u001b[38;5;241;43m=\u001b[39;49m\u001b[43midx_dtype\u001b[49m\u001b[43m)\u001b[49m\u001b[43m,\u001b[49m\n\u001b[1;32m    536\u001b[0m \u001b[43m   \u001b[49m\u001b[43mnp\u001b[49m\u001b[38;5;241;43m.\u001b[39;49m\u001b[43masarray\u001b[49m\u001b[43m(\u001b[49m\u001b[43mother\u001b[49m\u001b[38;5;241;43m.\u001b[39;49m\u001b[43mindices\u001b[49m\u001b[43m,\u001b[49m\u001b[43m \u001b[49m\u001b[43mdtype\u001b[49m\u001b[38;5;241;43m=\u001b[39;49m\u001b[43midx_dtype\u001b[49m\u001b[43m)\u001b[49m\u001b[43m,\u001b[49m\n\u001b[1;32m    537\u001b[0m \u001b[43m   \u001b[49m\u001b[43mother\u001b[49m\u001b[38;5;241;43m.\u001b[39;49m\u001b[43mdata\u001b[49m\u001b[43m,\u001b[49m\n\u001b[1;32m    538\u001b[0m \u001b[43m   \u001b[49m\u001b[43mindptr\u001b[49m\u001b[43m,\u001b[49m\u001b[43m \u001b[49m\u001b[43mindices\u001b[49m\u001b[43m,\u001b[49m\u001b[43m \u001b[49m\u001b[43mdata\u001b[49m\u001b[43m)\u001b[49m\n\u001b[1;32m    540\u001b[0m \u001b[38;5;28;01mreturn\u001b[39;00m \u001b[38;5;28mself\u001b[39m\u001b[38;5;241m.\u001b[39m\u001b[38;5;18m__class__\u001b[39m((data, indices, indptr), shape\u001b[38;5;241m=\u001b[39m(M, N))\n",
      "\u001b[0;31mKeyboardInterrupt\u001b[0m: "
     ]
    }
   ],
   "source": [
    "gs_KNN = GridSearchCV(estimator=pipeline3,\n",
    "                    param_grid=param_grid_KNN,\n",
    "                    cv=5,\n",
    "                    scoring='neg_mean_squared_error'\n",
    "                )\n",
    "gs_KNN.fit(X_train, y_train)"
   ]
  },
  {
   "cell_type": "markdown",
   "metadata": {},
   "source": [
    "#### Models results"
   ]
  },
  {
   "cell_type": "code",
   "execution_count": 67,
   "metadata": {},
   "outputs": [
    {
     "name": "stdout",
     "output_type": "stream",
     "text": [
      "Pipeline(steps=[('columntransformer',\n",
      "                 ColumnTransformer(transformers=[('cat',\n",
      "                                                  OneHotEncoder(handle_unknown='ignore'),\n",
      "                                                  ['Ship Mode', 'Segment',\n",
      "                                                   'Country', 'Market',\n",
      "                                                   'Region', 'Category',\n",
      "                                                   'Sub-Category',\n",
      "                                                   'Order Priority']),\n",
      "                                                 ('num', StandardScaler(),\n",
      "                                                  ['Sales', 'Quantity',\n",
      "                                                   'Profit',\n",
      "                                                   'Shipping days'])])),\n",
      "                ('kneighborsregressor',\n",
      "                 KNeighborsRegressor(leaf_size=20, n_neighbors=10,\n",
      "                                     weights='distance'))],\n",
      "         verbose=True)\n"
     ]
    }
   ],
   "source": [
    "best_model_KNN = gs_KNN.best_estimator_\n",
    "print(best_model_KNN)"
   ]
  },
  {
   "cell_type": "code",
   "execution_count": 68,
   "metadata": {},
   "outputs": [
    {
     "name": "stdout",
     "output_type": "stream",
     "text": [
      "{'kneighborsregressor__leaf_size': 20, 'kneighborsregressor__metric': 'minkowski', 'kneighborsregressor__n_neighbors': 10, 'kneighborsregressor__p': 2, 'kneighborsregressor__weights': 'distance'}\n"
     ]
    }
   ],
   "source": [
    "best_params_KNN = gs_KNN.best_params_\n",
    "print(best_params_KNN)"
   ]
  },
  {
   "cell_type": "markdown",
   "metadata": {},
   "source": [
    "### Model results with GDCV"
   ]
  },
  {
   "cell_type": "code",
   "execution_count": 70,
   "metadata": {},
   "outputs": [
    {
     "name": "stdout",
     "output_type": "stream",
     "text": [
      "Gradient Boosting Regressor with GSCV Report:\n",
      "MAE :  8.164216619193486\n",
      "MSE :  342.7444470218563\n",
      "R2 :  0.8296218372521288\n",
      "RMSE :  342.7444470218563\n"
     ]
    }
   ],
   "source": [
    "y_pred = best_model_KNN.predict(X_test)\n",
    "\n",
    "# Generate Gradient Boosting Regressor report\n",
    "MSE = mean_squared_error(y_test, y_pred) # measurement of the typical absolute discrepancies between a dataset's actual values and projected values.\n",
    "R2 = r2_score(y_test, y_pred) # measures the square root of the average discrepancies between a dataset's actual values and projected values\n",
    "MAE = mean_absolute_error(y_test, y_pred) # A statistical metric frequently used to assess the goodness of fit of a regression model is the R-squared (R2) score,\n",
    "RMSE = mean_squared_error(y_test, y_pred)\n",
    "\n",
    "print(\"Gradient Boosting Regressor with GSCV Report:\")\n",
    "print('MAE : ',MAE)\n",
    "print('MSE : ',MSE)\n",
    "print('R2 : ',R2)\n",
    "print('RMSE : ',RMSE)"
   ]
  },
  {
   "cell_type": "markdown",
   "metadata": {},
   "source": [
    "#### Visualization of the prediction error of a GB model."
   ]
  },
  {
   "cell_type": "code",
   "execution_count": 80,
   "metadata": {},
   "outputs": [
    {
     "data": {
      "image/png": "[encoded data removed]",
      "text/plain": [
       "<Figure size 640x480 with 1 Axes>"
      ]
     },
     "metadata": {},
     "output_type": "display_data"
    }
   ],
   "source": [
    "disp = PredictionErrorDisplay.from_estimator(best_model_KNN, X, y)\n",
    "plt.show()"
   ]
  }
 ],
 "metadata": {
  "kernelspec": {
   "display_name": "Python 3",
   "language": "python",
   "name": "python3"
  },
  "language_info": {
   "codemirror_mode": {
    "name": "ipython",
    "version": 3
   },
   "file_extension": ".py",
   "mimetype": "text/x-python",
   "name": "python",
   "nbconvert_exporter": "python",
   "pygments_lexer": "ipython3",
   "version": "3.12.3"
  }
 },
 "nbformat": 4,
 "nbformat_minor": 2
}
